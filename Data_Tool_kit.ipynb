{
  "nbformat": 4,
  "nbformat_minor": 0,
  "metadata": {
    "colab": {
      "provenance": []
    },
    "kernelspec": {
      "name": "python3",
      "display_name": "Python 3"
    },
    "language_info": {
      "name": "python"
    }
  },
  "cells": [
    {
      "cell_type": "markdown",
      "source": [
        "# <<< Theoritical Questions >>>"
      ],
      "metadata": {
        "id": "scyqZ90QniBq"
      }
    },
    {
      "cell_type": "markdown",
      "source": [
        "# Q1.What is NumPy, and why is it widely used in Python ?\n",
        "# Numpy\n",
        "NumPy, which stands for Numerical Python, is an essential library in the Python ecosystem, widely used for scientific computing. It provides a high-performance multidimensional array object, ndarray, and tools for working with these arrays.\n",
        "* NumPy (Numerical Python) is a powerful library for numerical computing in Python. It provides support for large, multi-dimensional arrays and matrices, along with a collection of mathematical functions to operate on these data structures efficiently.\n",
        "\n",
        "## Key Features of NumPy\n",
        "\n",
        "* N-dimensional Array Support:-  At its core, NumPy offers the ndarray object, enabling efficient storage and manipulation of homogeneous data types across multiple dimensions.\n",
        "\n",
        "* Performance: NumPy operations are implemented in C, which provides a performance boost compared to pure Python implementations. This is particularly beneficial for tasks involving large datasets or complex mathematical computations.\n",
        "\n",
        "* Comprehensive Mathematical Functions: The library includes functions for statistical analysis, linear algebra, and random number generation, among others, making it a versatile tool for data analysis and scientific research.\n",
        "\n",
        "* Interoperability: NumPy arrays are used as the standard data container for many other libraries in the scientific Python ecosystem, facilitating data exchange and integration.\n",
        "\n",
        "* Ease of Use: With its clear and concise syntax, NumPy is accessible to programmers from various backgrounds, simplifying the transition to scientific computing in Python.\n",
        "## Why is NumPy Widely Used?\n",
        "- Efficient Array Operations: NumPy arrays (ndarray) are much faster and more memory-efficient than Python lists due to their fixed-type elements and optimized underlying C implementation.\n",
        "- Mathematical and Statistical Functions: It offers functions for linear algebra, Fourier transforms, random number generation, and statistical computations.\n",
        "- Vectorization: Unlike regular Python loops, NumPy uses vectorized operations, significantly speeding up mathematical computations.\n",
        "- Interoperability: Works seamlessly with other scientific libraries like SciPy, Pandas, and Matplotlib.\n",
        "- Broadcasting: Allows operations on arrays of different shapes without requiring explicit loops, making code more concise and efficient.\n",
        "- Memory Optimization: Reduces overhead by storing data compactly and avoiding redundant copies.\n",
        "\n"
      ],
      "metadata": {
        "id": "RXTS3r_-nvnE"
      }
    },
    {
      "cell_type": "markdown",
      "source": [
        "# Q2.How does broadcasting work in NumPy ?\n",
        "Broadcasting in NumPy is a powerful mechanism that allows array operations to be performed on arrays of different shapes without explicitly reshaping or looping. It optimizes computation by expanding smaller arrays to match the shape of larger arrays, avoiding unnecessary memory duplication.\n",
        "\n",
        "## How Broadcasting Works:\n",
        "1. **Alignment of Dimensions:** NumPy compares the shapes of arrays element-wise from right to left. If dimensions are mismatched, the smaller array is \"stretched\" to match the larger one.\n",
        "2. **Rules for Broadcasting:**\n",
        "   - If two arrays have different shapes, NumPy checks whether the smaller array can be expanded.\n",
        "   - A dimension with size `1` can be stretched to match the corresponding dimension of the larger array.\n",
        "   - If dimensions cannot be matched, NumPy raises a `ValueError`.\n",
        "\n",
        "### Example:\n",
        "```python\n",
        "import numpy as np\n",
        "\n",
        "# Array A (shape: (3,3))\n",
        "A = np.array([[1, 2, 3], [4, 5, 6], [7, 8, 9]])\n",
        "\n",
        "# Array B (shape: (1,3))\n",
        "B = np.array([[10, 20, 30]])\n",
        "\n",
        "# Broadcasting in action\n",
        "result = A + B\n",
        "\n",
        "print(result)\n",
        "```\n",
        "**Output:**\n",
        "```\n",
        "[[11 22 33]\n",
        " [14 25 36]\n",
        " [17 28 39]]\n",
        "```\n",
        "Here, `B` (which has shape `(1,3)`) is broadcasted to match `A`'s shape `(3,3)`, and addition is performed element-wise.\n",
        "\n",
        "## Why is Broadcasting Useful?\n",
        "- **Avoids Explicit Loops:** Leads to faster execution compared to iterating manually.\n",
        "- **Optimizes Memory Usage:** Prevents unnecessary copies of data.\n",
        "- **Enhances Code Readability:** Simplifies mathematical operations on arrays.\n",
        "\n"
      ],
      "metadata": {
        "id": "LNzHtZ7FtPLL"
      }
    },
    {
      "cell_type": "markdown",
      "source": [
        "# Q3.What is a Pandas DataFrame .\n",
        "A **Pandas DataFrame** is a two-dimensional, table-like data structure in Python, similar to a spreadsheet or SQL table. It is part of the **Pandas** library, which is widely used for data manipulation and analysis.\n",
        "\n",
        "### **Key Features of a DataFrame:**\n",
        "1. **Rows & Columns:** DataFrames have labeled rows and columns, making them easy to work with.\n",
        "2. **Handling Missing Data:** Provides built-in methods to deal with missing values.\n",
        "3. **Flexible Indexing:** Supports both integer-based and labeled indexing.\n",
        "4. **Data Manipulation:** Enables filtering, grouping, joining, and aggregating data efficiently.\n",
        "5. **Integration with Other Libraries:** Works seamlessly with NumPy, Matplotlib, and other scientific libraries.\n",
        "\n",
        "### **Example of Creating a DataFrame**\n",
        "```python\n",
        "import pandas as pd\n",
        "\n",
        "# Creating a simple DataFrame\n",
        "data = {\n",
        "    \"Name\": [\"Alice\", \"Bob\", \"Charlie\"],\n",
        "    \"Age\": [25, 30, 35],\n",
        "    \"City\": [\"New York\", \"London\", \"Tokyo\"]\n",
        "}\n",
        "\n",
        "df = pd.DataFrame(data)\n",
        "\n",
        "print(df)\n",
        "```\n",
        "**Output:**\n",
        "```\n",
        "     Name  Age      City\n",
        "0   Alice   25  New York\n",
        "1     Bob   30    London\n",
        "2  Charlie   35     Tokyo\n",
        "```\n",
        "Here, we created a DataFrame from a dictionary. Rows are automatically indexed (0, 1, 2), and columns are labeled.\n",
        "\n"
      ],
      "metadata": {
        "id": "MJagnvCBxRmm"
      }
    },
    {
      "cell_type": "markdown",
      "source": [
        "# Q4. Explain the use of the groupby() method in Pandas .\n",
        "The `groupby()` method in Pandas is used to **group** rows based on specific column values, enabling efficient aggregation, transformation, and analysis of data.\n",
        "\n",
        "### **How `groupby()` Works:**\n",
        "1. **Splitting Data:** Divides data into groups based on unique values in a specified column.\n",
        "2. **Applying Functions:** Allows applying aggregation functions like `sum()`, `mean()`, `count()`, etc.\n",
        "3. **Combining Results:** Returns a new DataFrame or Series with computed values.\n",
        "\n",
        "### **Example Usage**\n",
        "Suppose we have a dataset of employee salaries categorized by department:\n",
        "\n",
        "```python\n",
        "import pandas as pd\n",
        "\n",
        "# Sample DataFrame\n",
        "data = {\n",
        "    \"Department\": [\"IT\", \"HR\", \"IT\", \"HR\", \"Finance\"],\n",
        "    \"Employee\": [\"Alice\", \"Bob\", \"Charlie\", \"David\", \"Eve\"],\n",
        "    \"Salary\": [60000, 50000, 70000, 45000, 80000]\n",
        "}\n",
        "\n",
        "df = pd.DataFrame(data)\n",
        "\n",
        "# Group by Department and find average salary\n",
        "grouped_df = df.groupby(\"Department\")[\"Salary\"].mean()\n",
        "\n",
        "print(grouped_df)\n",
        "```\n",
        "**Output:**\n",
        "```\n",
        "Department\n",
        "Finance    80000.0\n",
        "HR         47500.0\n",
        "IT         65000.0\n",
        "Name: Salary, dtype: float64\n",
        "```\n",
        "Here, `groupby(\"Department\")` groups the data by department, and `.mean()` calculates the average salary for each group.\n",
        "\n",
        "### **Common Aggregation Functions**\n",
        "- `sum()`: Sum of values in each group.\n",
        "- `mean()`: Average value per group.\n",
        "- `count()`: Number of occurrences per group.\n",
        "- `max()/min()`: Maximum or minimum value per group.\n",
        "- `agg()`: Apply multiple aggregation functions at once.\n"
      ],
      "metadata": {
        "id": "6ThMu_0Q9cLw"
      }
    },
    {
      "cell_type": "markdown",
      "source": [
        "# Q5. Why is Seaborn preferred for statistical visualizations ?\n",
        "Seaborn is preferred for statistical visualizations because it simplifies the process of creating visually appealing and informative graphs, especially for exploring complex datasets. It is built on top of **Matplotlib** and integrates well with **Pandas**, making it a powerful tool for data analysis.\n",
        "\n",
        "### **Why Seaborn?**\n",
        "1. **Beautiful & Readable Visuals:** Default settings enhance aesthetics, making charts more intuitive.\n",
        "2. **Built-in Statistical Functions:** Supports regression plots, distribution plots, and categorical plots.\n",
        "3. **Effortless Data Handling:** Works seamlessly with Pandas DataFrames, reducing the need for manual data structuring.\n",
        "4. **Automatic Aggregation & Mapping:** Handles grouping, categorization, and summaries with ease.\n",
        "5. **Support for Complex Relationships:** Easily visualizes relationships between multiple variables using heatmaps, pair plots, and violin plots.\n",
        "6. **Palette Customization:** Offers diverse color schemes for enhancing readability and visual contrast.\n",
        "\n",
        "### **Example Usage:**\n",
        "```python\n",
        "import seaborn as sns\n",
        "import matplotlib.pyplot as plt\n",
        "\n",
        "# Sample dataset\n",
        "tips = sns.load_dataset(\"tips\")\n",
        "\n",
        "# Create a boxplot for bill amounts across different days\n",
        "sns.boxplot(x=\"day\", y=\"total_bill\", data=tips, palette=\"coolwarm\")\n",
        "\n",
        "plt.show()\n",
        "```\n",
        "This boxplot instantly showcases spending patterns across different days without manual processing.\n",
        "\n",
        "\n"
      ],
      "metadata": {
        "id": "KdQsHTAABC0_"
      }
    },
    {
      "cell_type": "markdown",
      "source": [
        "# Q6. What are the differences between NumPy arrays and Python lists .\n",
        "While both NumPy arrays and Python lists can store multiple values, they have distinct differences in terms of performance, memory efficiency, and functionality. Here's a breakdown:\n",
        "\n",
        "### **Key Differences Between NumPy Arrays and Python Lists:**\n",
        "\n",
        "| Feature                | NumPy Arrays (`ndarray`) | Python Lists |\n",
        "|------------------------|------------------------|-------------|\n",
        "| **Performance**        | Highly optimized for numerical computations due to low-level C implementation | Slower for mathematical operations since they rely on Python's built-in mechanisms |\n",
        "| **Data Type Handling** | Requires homogeneous data types (all elements must be of the same type) | Can store mixed data types (integers, strings, floats, etc.) |\n",
        "| **Memory Efficiency**  | More compact, uses less memory due to fixed-type storage | Less efficient; each element is stored as a separate Python object, increasing memory overhead |\n",
        "| **Vectorized Operations** | Supports element-wise operations without loops (`arr1 + arr2` works directly) | Requires manual iteration using loops, making mathematical operations slower |\n",
        "| **Functionality**      | Comes with built-in mathematical, statistical, and linear algebra functions | Lacks built-in mathematical functions; relies on manual implementations or external libraries |\n",
        "| **Indexing & Slicing** | Supports advanced indexing and slicing, including multi-dimensional indexing | Basic indexing and slicing, but lacks NumPy's advanced capabilities |\n",
        "| **Broadcasting**       | Enables operations between arrays of different shapes without explicit loops | No broadcasting support; requires manual handling for mismatched sizes |\n",
        "\n",
        "### **Example Comparison:**\n",
        "#### Using a Python List:\n",
        "```python\n",
        "list1 = [1, 2, 3]\n",
        "list2 = [4, 5, 6]\n",
        "result = [x + y for x, y in zip(list1, list2)]\n",
        "print(result)  # Output: [5, 7, 9]\n",
        "```\n",
        "\n",
        "#### Using a NumPy Array:\n",
        "```python\n",
        "import numpy as np\n",
        "arr1 = np.array([1, 2, 3])\n",
        "arr2 = np.array([4, 5, 6])\n",
        "result = arr1 + arr2\n",
        "print(result)  # Output: [5 7 9]\n",
        "```\n",
        "Notice how NumPy allows for direct element-wise operations, whereas Python lists require explicit iteration.\n"
      ],
      "metadata": {
        "id": "HP-hhksuBqta"
      }
    },
    {
      "cell_type": "markdown",
      "source": [
        "# Q7. What is a heatmap, and when should it be used ?\n",
        "A **heatmap** is a graphical representation of data where individual values are represented using color intensity. It helps identify patterns, correlations, or anomalies within large datasets, making complex data more digestible.\n",
        "\n",
        "### **When to Use a Heatmap:**\n",
        "1. **Analyzing Relationships in Data** – Great for spotting trends between variables, especially in correlation matrices.\n",
        "2. **Visualizing Density or Frequency** – Used in website analytics to show user interaction areas or in geographical maps for population density.\n",
        "3. **Highlighting Outliers** – Quickly identifies abnormal values in datasets.\n",
        "4. **Comparing Multiple Variables** – Useful in financial markets, sales performance tracking, and machine learning feature analysis.\n",
        "\n",
        "### **Example: Creating a Heatmap in Python**\n",
        "```python\n",
        "import seaborn as sns\n",
        "import matplotlib.pyplot as plt\n",
        "\n",
        "# Sample dataset\n",
        "data = sns.load_dataset(\"flights\").pivot(\"month\", \"year\", \"passengers\")\n",
        "\n",
        "# Generate heatmap\n",
        "sns.heatmap(data, cmap=\"coolwarm\", annot=True, fmt=\"d\")\n",
        "\n",
        "plt.show()\n",
        "```\n",
        "This will display a **heatmap** where months and years are mapped, showing passenger trends over time.\n",
        "\n",
        "\n",
        "\n"
      ],
      "metadata": {
        "id": "PC_RL-01COTx"
      }
    },
    {
      "cell_type": "markdown",
      "source": [
        "# Q8. What does the term “vectorized operation” mean in NumPy ?\n",
        "In NumPy, a **vectorized operation** refers to performing element-wise computations on entire arrays without using explicit loops. This approach significantly improves execution speed and memory efficiency compared to traditional Python loops.\n",
        "\n",
        "### **Key Benefits of Vectorized Operations:**\n",
        "1. **Performance Boost** – Executes operations much faster than Python loops because NumPy is implemented in optimized C code.\n",
        "2. **Memory Efficiency** – Reduces overhead by applying operations directly to NumPy arrays instead of iterating over individual elements.\n",
        "3. **Concise & Readable Code** – Eliminates the need for manual loops, making code more elegant and expressive.\n",
        "4. **Utilizes SIMD (Single Instruction Multiple Data)** – NumPy can process multiple data points simultaneously using efficient low-level optimizations.\n",
        "\n",
        "### **Example Comparison:**\n",
        "#### Using a Python Loop:\n",
        "```python\n",
        "list1 = [1, 2, 3, 4]\n",
        "list2 = [5, 6, 7, 8]\n",
        "\n",
        "# Traditional loop-based addition\n",
        "result = [x + y for x, y in zip(list1, list2)]\n",
        "print(result)  # Output: [6, 8, 10, 12]\n",
        "```\n",
        "This approach iterates over both lists explicitly.\n",
        "\n",
        "#### Using a NumPy Vectorized Operation:\n",
        "```python\n",
        "import numpy as np\n",
        "\n",
        "arr1 = np.array([1, 2, 3, 4])\n",
        "arr2 = np.array([5, 6, 7, 8])\n",
        "\n",
        "# Vectorized addition\n",
        "result = arr1 + arr2\n",
        "print(result)  # Output: [6 8 10 12]\n",
        "```\n",
        "Instead of looping, NumPy **automatically** applies addition to all elements efficiently.\n"
      ],
      "metadata": {
        "id": "9g8LugfvDUZE"
      }
    },
    {
      "cell_type": "markdown",
      "source": [
        "# Q9. How does Matplotlib differ from Plotly .\n",
        "Matplotlib and Plotly are both powerful Python libraries for data visualization, but they differ significantly in their features, use cases, and approaches. Here's a concise comparison:\n",
        "\n",
        " 1. Interactivity Matplotlib:\n",
        " Primarily designed for static, publication-quality plots. While it supports basic interactivity (e.g., zooming, panning), it is not inherently interactive.\n",
        "Plotly: Built for creating highly interactive and dynamic visualizations. Users can hover, zoom, pan, and even export plots directly from the browser.\n",
        "\n",
        "2. Ease of Use\n",
        "Matplotlib: Offers a more traditional, code-heavy approach. It requires more lines of code for customization, which can be challenging for beginners.\n",
        "Plotly: Provides a more intuitive and user-friendly API, especially for interactive plots. It often requires less code for complex visualizations.\n",
        "\n",
        "3. Customization\n",
        "Matplotlib: Extremely customizable, allowing fine-grained control over every aspect of the plot. Ideal for creating highly tailored visualizations.\n",
        "Plotly: Customization is easier but somewhat limited compared to Matplotlib for highly specific or niche requirements.\n",
        "\n",
        "4. Output Formats\n",
        "Matplotlib: Generates static images (e.g., PNG, PDF, SVG) suitable for reports and publications.\n",
        "Plotly: Outputs interactive HTML files that can be embedded in web applications or shared online. It also supports static image export.\n",
        "\n",
        "5. 3D and Advanced Visualizations\n",
        "Matplotlib: Supports 3D plotting via mpl_toolkits.mplot3d, but the functionality is basic and less visually appealing.\n",
        "Plotly: Excels in 3D and advanced visualizations, offering smooth, interactive 3D plots with better aesthetics.\n",
        "\n",
        "6. Integration\n",
        "Matplotlib: Works well with Jupyter Notebooks, but lacks seamless integration with web frameworks.\n",
        "Plotly: Integrates effortlessly with Jupyter Notebooks, Dash (a web app framework), and other web technologies.\n",
        "\n",
        "7. Community and Ecosystem\n",
        "Matplotlib: A mature library with a large, active community and extensive documentation. It is often the go-to choice for academic and scientific work.\n",
        "Plotly: A newer library with growing popularity, especially in industries requiring interactive dashboards and web-based visualizations.\n",
        "\n",
        "## Summary:\n",
        "Use Matplotlib for static, highly customizable, and publication-quality plots.\n",
        "Use Plotly for interactive, web-friendly, and visually appealing visualizations.\n",
        "\n",
        "Both libraries can complement each other depending on your project needs!"
      ],
      "metadata": {
        "id": "Cp7SeaCCEAyY"
      }
    },
    {
      "cell_type": "markdown",
      "source": [
        "# Q10. What is the significance of hierarchical indexing in Pandas .\n",
        "Hierarchical indexing in Pandas is a powerful feature that allows multi-level indexing of DataFrames or Series. It enables more complex data representation and efficient retrieval by organizing data into multiple index levels.\n",
        "\n",
        "### **Significance of Hierarchical Indexing**\n",
        "1. **Multi-dimensional Data Representation** – Enables indexing over multiple dimensions, making it easier to organize and retrieve data.\n",
        "2. **Efficient Data Grouping & Aggregation** – Works well with operations like `.groupby()`, `.pivot_table()`, and `.stack()`, simplifying complex data structures.\n",
        "3. **Facilitates Advanced Data Selection** – Allows subset selection based on multiple hierarchical levels without requiring restructuring.\n",
        "4. **Improved Readability & Organization** – Helps manage large datasets by structuring indexes in a meaningful way.\n",
        "\n",
        "### **Example: Hierarchical Indexing**\n",
        "```python\n",
        "import pandas as pd\n",
        "\n",
        "# Creating a MultiIndex DataFrame\n",
        "data = {\n",
        "    \"City\": [\"New York\", \"New York\", \"London\", \"London\"],\n",
        "    \"Year\": [2020, 2021, 2020, 2021],\n",
        "    \"Population\": [8_336_817, 8_398_748, 8_982_000, 9_000_000]\n",
        "}\n",
        "\n",
        "df = pd.DataFrame(data).set_index([\"City\", \"Year\"])\n",
        "\n",
        "print(df)\n",
        "```\n",
        "**Output:**\n",
        "```\n",
        "                Population\n",
        "City       Year\n",
        "New York   2020    8336817\n",
        "           2021    8398748\n",
        "London     2020    8982000\n",
        "           2021    9000000\n",
        "```\n",
        "\n",
        "Here, **\"City\"** and **\"Year\"** are hierarchical indexes, allowing efficient grouping and retrieval.\n",
        "\n",
        "### **Selecting Data Using MultiIndex**\n",
        "```python\n",
        "# Fetching data for London in 2021\n",
        "print(df.loc[\"London\", 2021])\n",
        "```\n",
        "**Output:**\n",
        "```\n",
        "Population    9000000\n",
        "Name: (London, 2021), dtype: int64\n",
        "```\n",
        "\n",
        "Hierarchical indexing enhances flexibility, making it invaluable for **time-series analysis, multi-level aggregations, and complex data structures**. Given your focus on efficient Python solutions, this would be a great tool to explore further!"
      ],
      "metadata": {
        "id": "6MeKd8RmFgI1"
      }
    },
    {
      "cell_type": "markdown",
      "source": [
        "# Q11. What is the role of Seaborn’s pairplot() function.\n",
        "Seaborn's `pairplot()` function is used to create a grid of scatter plots that visualize relationships between numerical variables in a dataset. It provides a quick way to observe correlations, distributions, and trends across multiple features.\n",
        "\n",
        "### **Key Roles of `pairplot()`**\n",
        "1. **Explores Relationships:** Displays pairwise comparisons between all numeric columns, helping identify correlations.\n",
        "2. **Shows Distributions:** The diagonal plots represent variable distributions using histograms or KDE (Kernel Density Estimation).\n",
        "3. **Handles Categories:** Supports categorical differentiation using color (`hue`), making it easier to analyze grouped data.\n",
        "4. **Quick Overview of Data:** Ideal for exploratory data analysis (EDA) before deeper modeling.\n",
        "\n",
        "### **Example Usage**\n",
        "```python\n",
        "import seaborn as sns\n",
        "import matplotlib.pyplot as plt\n",
        "\n",
        "# Load sample dataset\n",
        "iris = sns.load_dataset(\"iris\")\n",
        "\n",
        "# Create pairplot\n",
        "sns.pairplot(iris, hue=\"species\", diag_kind=\"kde\", palette=\"husl\")\n",
        "\n",
        "plt.show()\n",
        "```\n",
        "**What Happens Here?**\n",
        "- The scatter plots show relationships between all numerical variables.\n",
        "- The diagonal KDE plots represent individual distributions.\n",
        "- The `hue=\"species\"` parameter differentiates data points by species using different colors.\n"
      ],
      "metadata": {
        "id": "SYGQnMGpLP98"
      }
    },
    {
      "cell_type": "markdown",
      "source": [
        "# Q12. What is the purpose of the describe() function in Pandas .\n",
        "The `describe()` function in Pandas is used to generate summary statistics for a DataFrame’s numerical columns. It provides essential insights into the distribution, central tendency, and spread of data.\n",
        "\n",
        "### **Purpose & Benefits of `describe()`**\n",
        "1. **Quick Overview of Data:** Helps understand the statistical properties of numerical columns.\n",
        "2. **Automatic Aggregation:** Computes summary statistics like count, mean, std (standard deviation), min, max, and percentiles.\n",
        "3. **Data Quality Check:** Helps detect anomalies or unexpected variations in datasets.\n",
        "4. **Works with Categorical Data:** When used with `include=\"all\"`, it provides insights into categorical columns as well.\n",
        "\n",
        "### **Example Usage**\n",
        "```python\n",
        "import pandas as pd\n",
        "\n",
        "# Sample DataFrame\n",
        "data = {\n",
        "    \"Age\": [25, 30, 35, 40, 45],\n",
        "    \"Salary\": [60000, 70000, 80000, 90000, 100000]\n",
        "}\n",
        "\n",
        "df = pd.DataFrame(data)\n",
        "\n",
        "# Generate summary statistics\n",
        "print(df.describe())\n",
        "```\n",
        "\n",
        "**Output:**\n",
        "```\n",
        "              Age        Salary\n",
        "count   5.000000      5.000000\n",
        "mean   35.000000  80000.000000\n",
        "std     7.905694  15811.388300\n",
        "min    25.000000  60000.000000\n",
        "25%    30.000000  70000.000000\n",
        "50%    35.000000  80000.000000\n",
        "75%    40.000000  90000.000000\n",
        "max    45.000000 100000.000000\n",
        "```\n",
        "Here, `describe()` quickly summarizes key metrics for both the `Age` and `Salary` columns.\n",
        "\n",
        "### **Customizing `describe()`**\n",
        "- **For categorical data:** `df.describe(include=\"object\")`\n",
        "- **For all columns:** `df.describe(include=\"all\")`\n",
        "- **For specific percentiles:** `df.describe(percentiles=[0.1, 0.9])`\n",
        "\n"
      ],
      "metadata": {
        "id": "viY915ESMdmd"
      }
    },
    {
      "cell_type": "markdown",
      "source": [
        "# Q13. Why is handling missing data important in Pandas .\n",
        "Handling missing data in Pandas is crucial because incomplete data can lead to misleading analysis, incorrect calculations, and errors in machine learning models. Properly managing missing values ensures data integrity and improves the reliability of insights drawn from datasets.\n",
        "\n",
        "### **Why Handling Missing Data Matters:**\n",
        "1. **Preserves Data Accuracy:** Ignoring missing values can distort statistical measures like mean and variance.\n",
        "2. **Prevents Computational Errors:** Some functions may fail if missing values (`NaN`) are left unchecked.\n",
        "3. **Enhances Model Performance:** Machine learning models often struggle with incomplete data, leading to biased predictions.\n",
        "4. **Ensures Consistency:** Cleaning data makes it easier to work with across different analyses or pipelines.\n",
        "\n",
        "### **How to Handle Missing Data in Pandas**\n",
        "#### **1. Identifying Missing Data**\n",
        "```python\n",
        "import pandas as pd\n",
        "\n",
        "df = pd.DataFrame({\n",
        "    \"Name\": [\"Alice\", \"Bob\", \"Charlie\", None],\n",
        "    \"Age\": [25, None, 30, 35],\n",
        "    \"Salary\": [60000, 70000, None, 90000]\n",
        "})\n",
        "\n",
        "# Checking for missing values\n",
        "print(df.isnull().sum())  # Counts missing values per column\n",
        "```\n",
        "\n",
        "#### **2. Removing Missing Data**\n",
        "```python\n",
        "# Drop rows with any missing values\n",
        "df_cleaned = df.dropna()\n",
        "```\n",
        "\n",
        "#### **3. Filling Missing Values**\n",
        "```python\n",
        "# Fill missing ages with the average age\n",
        "df[\"Age\"].fillna(df[\"Age\"].mean(), inplace=True)\n",
        "```\n",
        "\n",
        "#### **4. Interpolation for Missing Values**\n",
        "```python\n",
        "df[\"Salary\"] = df[\"Salary\"].interpolate()\n",
        "```\n",
        "Interpolation estimates missing values based on existing trends.\n",
        "\n",
        "Handling missing data efficiently ensures that datasets remain clean, structured, and usable for analysis."
      ],
      "metadata": {
        "id": "I1dfGPcINdLx"
      }
    },
    {
      "cell_type": "markdown",
      "source": [
        "# Q14.What are the benefits of using Plotly for data visualization.\n",
        "Plotly is a powerful library for **interactive data visualization** in Python, widely used for creating dynamic, web-based visualizations. Here are the key benefits:\n",
        "\n",
        "### **Why Use Plotly?**\n",
        "1. **Fully Interactive Plots** – Unlike static libraries like Matplotlib, Plotly supports zooming, panning, tooltips, and hover effects, making it ideal for exploratory data analysis.\n",
        "2. **Wide Range of Chart Types** – Includes standard plots like scatter and bar charts, as well as advanced visualizations like 3D plots, choropleth maps, and heatmaps.\n",
        "3. **Web Integration** – Generates interactive **HTML-based** plots that can be embedded in dashboards and web applications using frameworks like Dash.\n",
        "4. **Ease of Use** – Provides high-level functions with sensible defaults, reducing the need for extensive customization.\n",
        "5. **Built-in Data Handling** – Works seamlessly with Pandas DataFrames, allowing easy plotting of structured data.\n",
        "6. **Supports Large Datasets** – Can efficiently handle big data with **WebGL acceleration**, improving rendering speed.\n",
        "7. **Customizable Appearance** – Offers extensive styling options, including color palettes, annotations, and layout tweaks.\n",
        "8. **Export Options** – Plots can be saved in various formats, including PNG, PDF, and interactive web outputs.\n",
        "\n",
        "### **Example: Creating an Interactive Scatter Plot**\n",
        "```python\n",
        "import plotly.express as px\n",
        "\n",
        "# Sample dataset\n",
        "data = px.data.iris()\n",
        "\n",
        "# Create interactive scatter plot\n",
        "fig = px.scatter(data, x=\"sepal_width\", y=\"sepal_length\", color=\"species\", title=\"Interactive Iris Dataset\")\n",
        "\n",
        "fig.show()\n",
        "```\n",
        "This plot allows users to **hover over points, zoom in, and interact dynamically**.\n",
        "\n",
        "Given your focus on efficient Python solutions, Plotly is an excellent choice for making **interactive and insightful** visualization .\n",
        "\n"
      ],
      "metadata": {
        "id": "20POtJ-WjWOB"
      }
    },
    {
      "cell_type": "markdown",
      "source": [
        "# Q15. How does NumPy handle multidimensional arrays ?\n",
        "NumPy handles **multidimensional arrays** using its `ndarray` (N-dimensional array) object, which allows efficient storage, manipulation, and computation of multi-dimensional data structures.\n",
        "\n",
        "### **How NumPy Handles Multidimensional Arrays**\n",
        "1. **Efficient Storage & Access:** Uses contiguous memory layout, making operations faster than nested Python lists.\n",
        "2. **Indexing & Slicing:** Supports advanced indexing, including accessing rows, columns, and subarrays easily.\n",
        "3. **Vectorized Operations:** Performs element-wise computations without explicit loops, optimizing performance.\n",
        "4. **Broadcasting:** Allows operations between arrays of different shapes without copying data.\n",
        "5. **Reshaping & Transposing:** Provides functions like `.reshape()` and `.T` to adjust array dimensions dynamically.\n",
        "6. **Multi-dimensional Computation:** Functions like `np.dot()` for matrix multiplication and `np.linalg.inv()` for inversion make handling multi-dimensional data seamless.\n",
        "\n",
        "### **Example: Creating & Manipulating a 3D Array**\n",
        "```python\n",
        "import numpy as np\n",
        "\n",
        "# Creating a 3D NumPy array\n",
        "arr = np.array([[[1, 2, 3], [4, 5, 6]],\n",
        "                [[7, 8, 9], [10, 11, 12]]])\n",
        "\n",
        "print(\"Shape of array:\", arr.shape)  # Output: (2, 2, 3)\n",
        "\n",
        "# Accessing elements\n",
        "print(\"Element at arr[0, 1, 2]:\", arr[0, 1, 2])  # Output: 6\n",
        "\n",
        "# Reshaping array\n",
        "reshaped_arr = arr.reshape(3, 2, 2)\n",
        "print(\"Reshaped array:\\n\", reshaped_arr)\n",
        "```\n",
        "\n",
        "### **Why is This Useful?**\n",
        "- **Ideal for scientific computing, image processing, and machine learning applications.**\n",
        "- **Works well with matrix operations, making tasks like transformations and data manipulation efficient.**\n"
      ],
      "metadata": {
        "id": "8z1fkjp8kNoi"
      }
    },
    {
      "cell_type": "markdown",
      "source": [
        "# Q16. What is the role of Bokeh in data visualization .\n",
        "Bokeh is a powerful Python library designed for creating **interactive and web-friendly visualizations**. It excels in building **dynamic, browser-based plots** and dashboards, making it a preferred choice for exploratory data analysis.\n",
        "\n",
        "### **Key Roles of Bokeh in Data Visualization:**\n",
        "1. **Interactive Visualizations** – Enables zooming, panning, tooltips, and linked brushing, enhancing data exploration.\n",
        "2. **Web-Based Output** – Generates **HTML & JavaScript-based visualizations**, making it ideal for embedding in web applications.\n",
        "3. **Scalable Performance** – Handles large datasets efficiently using **WebGL acceleration**, improving rendering speed.\n",
        "4. **Customization & Flexibility** – Supports complex layouts, widgets, and themes for professional dashboards.\n",
        "5. **Supports Streaming Data** – Works well with real-time data updates, making it useful for monitoring applications.\n",
        "\n",
        "### **Example: Creating an Interactive Scatter Plot**\n",
        "```python\n",
        "from bokeh.plotting import figure, show\n",
        "from bokeh.io import output_notebook\n",
        "\n",
        "output_notebook()  # Render directly in Jupyter Notebook\n",
        "\n",
        "# Sample data\n",
        "x = [1, 2, 3, 4, 5]\n",
        "y = [6, 7, 8, 9, 10]\n",
        "\n",
        "# Create figure\n",
        "p = figure(title=\"Interactive Bokeh Scatter Plot\", x_axis_label=\"X\", y_axis_label=\"Y\")\n",
        "\n",
        "# Add scatter plot\n",
        "p.circle(x, y, size=10, color=\"navy\", alpha=0.7)\n",
        "\n",
        "show(p)\n",
        "```\n",
        "This example produces an **interactive scatter plot**, allowing users to zoom and hover over points.\n",
        "\n"
      ],
      "metadata": {
        "id": "lTIKCCKlls1M"
      }
    },
    {
      "cell_type": "markdown",
      "source": [
        "# Q17. Explain the difference between apply() and map() in Pandas.\n",
        "In Pandas, both `apply()` and `map()` are used for applying functions to DataFrame columns or Series, but they have different use cases and capabilities.\n",
        "\n",
        "### **Key Differences Between `apply()` and `map()`**\n",
        "| Feature        | `apply()` | `map()` |\n",
        "|---------------|----------|---------|\n",
        "| **Usage Scope** | Works on both **Series** and **DataFrame** | Works only on **Series** |\n",
        "| **Function Application** | Can apply functions row-wise or column-wise in a DataFrame | Applies a function element-wise on a Series |\n",
        "| **Supports Custom Functions** | Works with custom functions, lambda functions, or built-in functions | Only works on individual elements, not entire rows/columns |\n",
        "| **Can Modify Multiple Columns** | Yes, applies transformations across multiple columns | No, works on a single column at a time |\n",
        "| **Works with Dictionaries & Series Mapping** | Yes, supports dictionary or Series-based transformations | Yes, but only on a Series |\n",
        "| **Performance** | Slightly slower due to its flexibility | Faster for simple element-wise operations |\n",
        "\n",
        "### **Example Comparisons**\n",
        "#### **Using `map()` on a Pandas Series**\n",
        "```python\n",
        "import pandas as pd\n",
        "\n",
        "# Sample Series\n",
        "s = pd.Series([1, 2, 3, 4, 5])\n",
        "\n",
        "# Applying a function using map()\n",
        "s_mapped = s.map(lambda x: x * 2)\n",
        "print(s_mapped)\n",
        "```\n",
        "**Output:**\n",
        "```\n",
        "0    2\n",
        "1    4\n",
        "2    6\n",
        "3    8\n",
        "4   10\n",
        "dtype: int64\n",
        "```\n",
        "Here, `map()` applies the lambda function to **each element individually**.\n",
        "\n",
        "#### **Using `apply()` on a DataFrame**\n",
        "```python\n",
        "# Sample DataFrame\n",
        "df = pd.DataFrame({\n",
        "    \"A\": [1, 2, 3],\n",
        "    \"B\": [4, 5, 6]\n",
        "})\n",
        "\n",
        "# Applying a function to all rows\n",
        "df_applied = df.apply(lambda x: x.sum(), axis=1)  # Row-wise sum\n",
        "print(df_applied)\n",
        "```\n",
        "**Output:**\n",
        "```\n",
        "0    5\n",
        "1    7\n",
        "2    9\n",
        "dtype: int64\n",
        "```\n",
        "Here, `apply()` computes row-wise sums.\n",
        "\n",
        "### **Which One Should You Use?**\n",
        "- Use `map()` when working with a **single column or Series** for element-wise transformations.\n",
        "- Use `apply()` when applying complex functions **across multiple columns or rows** in a DataFrame.\n",
        "\n"
      ],
      "metadata": {
        "id": "TOrM73nZmLyJ"
      }
    },
    {
      "cell_type": "markdown",
      "source": [
        "# Q18. What are some advanced features of NumPy .\n",
        "NumPy offers several **advanced features** that make it a powerful tool for high-performance numerical computing. These features enhance efficiency, memory management, and computational capabilities.\n",
        "\n",
        "### **1. Broadcasting**\n",
        "   - Enables operations between arrays of different shapes without explicit looping.\n",
        "   - Optimizes memory usage and speeds up calculations.\n",
        "   - Example:\n",
        "     ```python\n",
        "     import numpy as np\n",
        "     A = np.array([[1, 2, 3], [4, 5, 6]])\n",
        "     B = np.array([10, 20, 30])\n",
        "     print(A + B)  # Automatically expands B to match A's shape\n",
        "     ```\n",
        "\n",
        "### **2. Vectorized Operations**\n",
        "   - Allows element-wise mathematical computations without explicit loops.\n",
        "   - Improves performance compared to Python lists.\n",
        "   - Example:\n",
        "     ```python\n",
        "     arr = np.array([1, 2, 3])\n",
        "     print(arr * 2)  # Efficient multiplication for entire array\n",
        "     ```\n",
        "\n",
        "### **3. Memory Optimization & Efficient Storage**\n",
        "   - Uses compact storage, reducing overhead compared to Python lists.\n",
        "   - Supports different data types using `dtype` for efficient memory management.\n",
        "   - Example:\n",
        "     ```python\n",
        "     arr = np.array([1, 2, 3], dtype=np.int8)  # Uses less memory\n",
        "     print(arr.nbytes)  # Check memory consumption\n",
        "     ```\n",
        "\n",
        "### **4. Advanced Indexing & Slicing**\n",
        "   - Supports Boolean indexing, fancy indexing, and multi-dimensional slicing.\n",
        "   - Example:\n",
        "     ```python\n",
        "     arr = np.array([[1, 2, 3], [4, 5, 6]])\n",
        "     print(arr[:, 1])  # Retrieves second column\n",
        "     ```\n",
        "\n",
        "### **5. Linear Algebra & Matrix Operations**\n",
        "   - Provides functions for matrix inversion, dot products, eigenvalues, and more.\n",
        "   - Example:\n",
        "     ```python\n",
        "     from numpy.linalg import inv\n",
        "     matrix = np.array([[1, 2], [3, 4]])\n",
        "     print(inv(matrix))  # Compute inverse\n",
        "     ```\n",
        "\n",
        "### **6. Random Number Generation & Simulation**\n",
        "   - Uses `numpy.random` for efficient sampling and probability distributions.\n",
        "   - Example:\n",
        "     ```python\n",
        "     import numpy as np\n",
        "     random_vals = np.random.normal(loc=0, scale=1, size=5)\n",
        "     print(random_vals)  # Generates 5 random values from a normal distribution\n",
        "     ```\n",
        "\n",
        "### **7. Fast Fourier Transform (FFT)**\n",
        "   - Enables spectral analysis and signal processing.\n",
        "   - Example:\n",
        "     ```python\n",
        "     import numpy as np\n",
        "     signal = np.array([1, 2, 3, 4])\n",
        "     transformed = np.fft.fft(signal)\n",
        "     print(transformed)  # Computes Fast Fourier Transform\n",
        "     ```\n",
        "\n",
        "### **8. Multi-dimensional Array Manipulation**\n",
        "   - Allows reshaping, stacking, concatenation, and transposition.\n",
        "   - Example:\n",
        "     ```python\n",
        "     arr = np.array([[1, 2], [3, 4]])\n",
        "     print(arr.T)  # Transpose array\n",
        "     ```\n",
        "\n",
        "### **Why These Features Matter?**\n",
        "- **Optimized for speed & memory efficiency** – NumPy operates faster than native Python structures.\n",
        "- **Essential for scientific & machine learning applications** – Used in AI, simulations, and data analysis.\n",
        "- **Simplifies mathematical operations** – Reduces complexity in numerical computations.\n",
        "\n"
      ],
      "metadata": {
        "id": "jZKgcyRAmwbT"
      }
    },
    {
      "cell_type": "markdown",
      "source": [
        "# Q19. How does Pandas simplify time series analysis .\n",
        "Pandas makes **time series analysis** efficient by providing specialized **DateTime functions**, flexible indexing, and built-in time-based data manipulation tools. These features make handling and analyzing time-series data much easier.\n",
        "\n",
        "### **Key Ways Pandas Simplifies Time Series Analysis**\n",
        "1. **DateTime Indexing & Handling** – Supports automatic conversion of timestamps and allows indexing with `DatetimeIndex`, making time-based operations seamless.\n",
        "2. **Resampling & Frequency Conversion** – Enables aggregation (e.g., daily to monthly), interpolation, and frequency adjustments using `.resample()`.\n",
        "3. **Rolling Window Statistics** – Allows moving averages, cumulative sums, and trend analysis with `.rolling()`.\n",
        "4. **Time-Based Grouping** – Groups data by periods like months or years using `.groupby()` on DateTime-indexed data.\n",
        "5. **Missing Data Handling** – Offers forward-fill (`ffill`), backward-fill (`bfill`), and interpolation techniques to manage gaps in time series.\n",
        "6. **Shift & Lag Operations** – Supports `.shift()` for creating lag variables in predictive modeling.\n",
        "7. **Time-Zone Conversion** – Easily converts timestamps to different time zones using `.tz_localize()` and `.tz_convert()`.\n",
        "8. **Auto-Parsing & Conversion** – Parses multiple time formats automatically using `pd.to_datetime()`.\n",
        "\n",
        "### **Example: Time Series in Pandas**\n",
        "```python\n",
        "import pandas as pd\n",
        "\n",
        "# Creating a DateTime index\n",
        "date_range = pd.date_range(start=\"2023-01-01\", periods=10, freq=\"D\")\n",
        "data = {\"Value\": [10, 15, 20, 25, 30, 28, 32, 35, 40, 45]}\n",
        "\n",
        "df = pd.DataFrame(data, index=date_range)\n",
        "print(df)\n",
        "```\n",
        "Here, **`date_range()`** generates a time-based index, making time series operations intuitive.\n",
        "\n",
        "### **Resampling Example: Converting Daily Data to Monthly Averages**\n",
        "```python\n",
        "df_monthly = df.resample(\"M\").mean()\n",
        "print(df_monthly)\n",
        "```\n",
        "This aggregates data into **monthly averages** effortlessly.\n"
      ],
      "metadata": {
        "id": "eU3bdv6gna9o"
      }
    },
    {
      "cell_type": "markdown",
      "source": [
        "# Q20. What is the role of a pivot table in Pandas ?\n",
        "In Pandas, a **pivot table** is used to **summarize, reorganize, and analyze** data efficiently by aggregating values based on specific columns. It helps in structuring large datasets into meaningful insights.\n",
        "\n",
        "### **Key Roles of a Pivot Table:**\n",
        "1. **Data Aggregation** – Computes statistics like `sum`, `mean`, `count`, etc., for grouped values.\n",
        "2. **Restructuring Data** – Converts long-form data into a more readable tabular format.\n",
        "3. **Dynamic Analysis** – Allows multi-level grouping and summarization.\n",
        "4. **Handling Missing Data** – Supports filling missing values using `.fill_value` or interpolation.\n",
        "5. **Multi-Level Indexing** – Enables hierarchical organization for complex datasets.\n",
        "\n",
        "### **Example: Creating a Pivot Table**\n",
        "```python\n",
        "import pandas as pd\n",
        "\n",
        "# Sample DataFrame\n",
        "data = {\n",
        "    \"Department\": [\"IT\", \"HR\", \"IT\", \"HR\", \"Finance\"],\n",
        "    \"Employee\": [\"Alice\", \"Bob\", \"Charlie\", \"David\", \"Eve\"],\n",
        "    \"Salary\": [60000, 50000, 70000, 45000, 80000]\n",
        "}\n",
        "\n",
        "df = pd.DataFrame(data)\n",
        "\n",
        "# Creating a pivot table\n",
        "pivot_df = df.pivot_table(values=\"Salary\", index=\"Department\", aggfunc=\"mean\")\n",
        "\n",
        "print(pivot_df)\n",
        "```\n",
        "\n",
        "**Output:**\n",
        "```\n",
        "            Salary\n",
        "Department        \n",
        "Finance     80000.0\n",
        "HR          47500.0\n",
        "IT          65000.0\n",
        "```\n",
        "Here, the pivot table calculates the **average salary per department**, summarizing the data efficiently.\n",
        "\n",
        "### **Why Pivot Tables Matter?**\n",
        "- **Ideal for quick data summarization** without complex queries.\n",
        "- **Useful in financial, HR, and business analytics** for structured reporting.\n",
        "- **Enhances flexibility in data exploration**, making large datasets more manageable.\n",
        "\n",
        "\n",
        "\n"
      ],
      "metadata": {
        "id": "ATeik72En8s9"
      }
    },
    {
      "cell_type": "markdown",
      "source": [
        "# Q21. Why is NumPy’s array slicing faster than Python’s list slicing ?\n",
        "NumPy's array slicing is significantly **faster** than Python's list slicing due to its **optimized memory layout** and **efficient data processing mechanisms**. Here’s why:\n",
        "\n",
        "### **1. Contiguous Memory Storage**\n",
        "- NumPy arrays are stored in **contiguous memory blocks**, making access and modifications much faster.\n",
        "- Python lists store elements as separate **objects**, causing additional memory lookups and overhead.\n",
        "\n",
        "### **2. Fixed Data Type (Homogeneous Storage)**\n",
        "- NumPy arrays have a **fixed data type**, allowing faster computations.\n",
        "- Python lists can contain **mixed data types**, requiring more processing to determine each element's type dynamically.\n",
        "\n",
        "### **3. Vectorized Operations (No Explicit Loops)**\n",
        "- NumPy slices operate at the **C-level**, bypassing Python’s loop overhead.\n",
        "- Python lists rely on **high-level Python loops**, which are slower due to **dynamic type checking**.\n",
        "\n",
        "### **4. View-Based Slicing (No Copying)**\n",
        "- Slicing a NumPy array **returns a view**, meaning no new memory allocation occurs.\n",
        "- Python lists **create a new copy** of sliced elements, increasing processing time and memory usage.\n",
        "\n",
        "### **Example Comparison**\n",
        "#### **Python List Slicing (Slower)**\n",
        "```python\n",
        "list1 = list(range(10**6))  # Large list\n",
        "sliced_list = list1[:500000]  # Creates a new copy\n",
        "```\n",
        "\n",
        "#### **NumPy Array Slicing (Faster)**\n",
        "```python\n",
        "import numpy as np\n",
        "arr = np.arange(10**6)  # Large NumPy array\n",
        "sliced_arr = arr[:500000]  # Returns a view, no copying\n",
        "```\n",
        "The NumPy slicing operation **does not create a new object**, significantly improving performance.\n",
        "\n"
      ],
      "metadata": {
        "id": "zHZphL-cpK3G"
      }
    },
    {
      "cell_type": "markdown",
      "source": [
        "# Q22. What are some common use cases for Seaborn?\n",
        "Seaborn is widely used for **statistical data visualization**, offering aesthetically pleasing and informative plots with minimal effort. Here are some common use cases:\n",
        "\n",
        "### **1. Exploring Relationships Between Variables**\n",
        "   - **Use case:** Visualizing correlations in datasets.\n",
        "   - **Example plot:** `scatterplot()`, `regplot()`\n",
        "   - **Example:** Analyzing the relationship between income and education level.\n",
        "\n",
        "### **2. Distribution Analysis**\n",
        "   - **Use case:** Understanding how data is spread.\n",
        "   - **Example plot:** `histplot()`, `kdeplot()`, `boxplot()`\n",
        "   - **Example:** Checking income distribution among different age groups.\n",
        "\n",
        "### **3. Categorical Data Visualization**\n",
        "   - **Use case:** Comparing different categories within a dataset.\n",
        "   - **Example plot:** `barplot()`, `violinplot()`, `countplot()`\n",
        "   - **Example:** Comparing sales figures across different product categories.\n",
        "\n",
        "### **4. Heatmaps for Correlation & Trend Analysis**\n",
        "   - **Use case:** Identifying patterns and relationships.\n",
        "   - **Example plot:** `heatmap()`\n",
        "   - **Example:** Examining correlations between multiple stock prices.\n",
        "\n",
        "### **5. Pairwise Data Exploration**\n",
        "   - **Use case:** Comparing multiple variables in a dataset.\n",
        "   - **Example plot:** `pairplot()`\n",
        "   - **Example:** Exploring patterns among features in a machine learning dataset.\n",
        "\n",
        "### **6. Time Series Visualization**\n",
        "   - **Use case:** Analyzing trends over time.\n",
        "   - **Example plot:** `lineplot()`\n",
        "   - **Example:** Tracking customer engagement over months.\n",
        "\n",
        "### **7. Customizing & Enhancing Matplotlib Visuals**\n",
        "   - **Use case:** Improving default Matplotlib plots with advanced styling.\n",
        "   - **Example plot:** Seaborn's built-in themes and color palettes.\n",
        "   - **Example:** Creating publication-quality plots with minimal manual formatting.\n"
      ],
      "metadata": {
        "id": "TBDTvWlHp8uK"
      }
    },
    {
      "cell_type": "markdown",
      "source": [
        "# <<< Practical Question >>>"
      ],
      "metadata": {
        "id": "mOggLMPZIcqs"
      }
    },
    {
      "cell_type": "markdown",
      "source": [
        "# Q1. How do you create a 2D NumPy array and calculate the sum of each row ?\n",
        "Creating a **2D NumPy array** and calculating the **sum of each row** is straightforward using NumPy's built-in functions.\n",
        "\n",
        "### **Steps:**\n",
        "1. Create a **2D NumPy array** using `np.array()`.\n",
        "2. Use `np.sum(axis=1)` to compute the sum across rows.\n",
        "\n",
        "### **Example Implementation:**\n",
        "```python\n",
        "import numpy as np\n",
        "\n",
        "# Creating a 2D NumPy array\n",
        "arr = np.array([[1, 2, 3],\n",
        "                [4, 5, 6],\n",
        "                [7, 8, 9]])\n",
        "\n",
        "# Calculating the sum of each row\n",
        "row_sums = np.sum(arr, axis=1)\n",
        "\n",
        "print(\"2D Array:\\n\", arr)\n",
        "print(\"Sum of each row:\", row_sums)\n",
        "```\n",
        "\n",
        "### **Output:**\n",
        "```\n",
        "2D Array:\n",
        " [[1 2 3]\n",
        "  [4 5 6]\n",
        "  [7 8 9]]\n",
        "\n",
        "Sum of each row: [ 6 15 24]\n",
        "```\n",
        "### **Explanation:**\n",
        "- `axis=1` tells NumPy to **sum across columns**, meaning each row’s sum is computed.\n",
        "- The function efficiently computes sums **without explicit loops**, leveraging NumPy's performance optimizations.\n",
        "\n"
      ],
      "metadata": {
        "id": "9okvFNPXIrJh"
      }
    },
    {
      "cell_type": "markdown",
      "source": [
        "# Q2. Write a Pandas script to find the mean of a specific column in a DataFrame .\n",
        "Here's a simple **Pandas script** to find the **mean (average) of a specific column** in a DataFrame:\n",
        "\n",
        "```python\n",
        "import pandas as pd\n",
        "\n",
        "# Sample DataFrame\n",
        "data = {\n",
        "    \"Name\": [\"Alice\", \"Bob\", \"Charlie\", \"David\"],\n",
        "    \"Age\": [25, 30, 35, 40],\n",
        "    \"Salary\": [60000, 70000, 80000, 90000]\n",
        "}\n",
        "\n",
        "df = pd.DataFrame(data)\n",
        "\n",
        "# Finding the mean of the 'Salary' column\n",
        "mean_salary = df[\"Salary\"].mean()\n",
        "\n",
        "print(\"Mean Salary:\", mean_salary) # output : Mean Salary: 75000.0\n",
        "\n",
        "```\n",
        "\n",
        "### **Explanation:**\n",
        "- `df[\"Salary\"].mean()` computes the **average** of all values in the `Salary` column.\n",
        "- Works efficiently on large datasets without requiring loops.\n",
        "- Can be applied to **any numerical column** in a DataFrame.\n",
        "\n",
        "\n"
      ],
      "metadata": {
        "id": "byvdeA4rJnEN"
      }
    },
    {
      "cell_type": "markdown",
      "source": [
        "# Q3. Create a scatter plot using Matplotlib .\n",
        "Here's a simple way to create a **scatter plot** using Matplotlib:\n",
        "\n",
        "### **Steps:**\n",
        "1. Import Matplotlib.\n",
        "2. Define `x` and `y` values.\n",
        "3. Use `plt.scatter()` to create the plot.\n",
        "4. Customize labels and title.\n",
        "5. Display the plot using `plt.show()`.\n",
        "\n",
        "### **Python Script:**\n",
        "```python\n",
        "import matplotlib.pyplot as plt\n",
        "\n",
        "# Sample data points\n",
        "x = [1, 2, 3, 4, 5]\n",
        "y = [10, 15, 7, 20, 25]\n",
        "\n",
        "# Create scatter plot\n",
        "plt.scatter(x, y, color='blue', marker='o', label=\"Data Points\")\n",
        "\n",
        "# Add labels and title\n",
        "plt.xlabel(\"X Axis\")\n",
        "plt.ylabel(\"Y Axis\")\n",
        "plt.title(\"Simple Scatter Plot\")\n",
        "\n",
        "# Show legend and grid\n",
        "plt.legend()\n",
        "plt.grid(True)\n",
        "\n",
        "# Display the plot\n",
        "plt.show()\n",
        "```\n",
        "\n",
        "### **What Happens Here?**\n",
        "- `plt.scatter(x, y)` plots the **data points**.\n",
        "- Custom styles like `color='blue'` and `marker='o'` improve visualization.\n",
        "- Labels and grid help **enhance readability**.\n",
        "\n",
        "\n"
      ],
      "metadata": {
        "id": "lqgWzW3eMurV"
      }
    },
    {
      "cell_type": "markdown",
      "source": [
        "# Q4. How do you calculate the correlation matrix using Seaborn and visualize it with a heatmap .\n",
        "You can calculate a **correlation matrix** in Pandas and visualize it using a **heatmap** in Seaborn. A correlation matrix helps you understand relationships between numerical variables, where values range from **-1 (negative correlation)** to **1 (positive correlation)**.\n",
        "\n",
        "### **Steps:**\n",
        "1. Compute the correlation matrix using `df.corr()`.\n",
        "2. Use Seaborn's `heatmap()` to visualize it.\n",
        "\n",
        "### **Example:**\n",
        "```python\n",
        "import pandas as pd\n",
        "import seaborn as sns\n",
        "import matplotlib.pyplot as plt\n",
        "\n",
        "# Sample dataset\n",
        "data = {\n",
        "    \"A\": [1, 2, 3, 4, 5],\n",
        "    \"B\": [5, 4, 3, 2, 1],\n",
        "    \"C\": [2, 3, 4, 5, 6]\n",
        "}\n",
        "\n",
        "df = pd.DataFrame(data)\n",
        "\n",
        "# Calculate correlation matrix\n",
        "corr_matrix = df.corr()\n",
        "\n",
        "# Create heatmap visualization\n",
        "sns.heatmap(corr_matrix, annot=True, cmap=\"coolwarm\", fmt=\".2f\")\n",
        "\n",
        "plt.title(\"Correlation Matrix Heatmap\")\n",
        "plt.show()\n",
        "```\n",
        "\n",
        "### **What This Does:**\n",
        "- `df.corr()` computes **Pearson correlation** for numeric columns.\n",
        "- `sns.heatmap()` visualizes correlations with color gradients.\n",
        "- `annot=True` **displays values** inside the heatmap.\n",
        "- `cmap=\"coolwarm\"` sets an **easy-to-read color scheme**.\n",
        "\n",
        "\n"
      ],
      "metadata": {
        "id": "h2dYVDIOBSga"
      }
    },
    {
      "cell_type": "markdown",
      "source": [
        "# Q5. Generate a bar plot using Plotly .\n",
        "This uses plotly.express to create a bar plot with categorical labels on the x-axis and numerical values on the y-axis. You can customize it further with colors, annotations, and interactivity.\n",
        "\n",
        "\n"
      ],
      "metadata": {
        "id": "SZpZ8eGgEhjo"
      }
    },
    {
      "cell_type": "code",
      "source": [
        "import plotly.express as px\n",
        "\n",
        "# Sample data\n",
        "data = {'Category': ['A', 'B', 'C', 'D'],\n",
        "        'Values': [10, 20, 15, 25]}\n",
        "\n",
        "# Create a bar plot\n",
        "fig = px.bar(data, x='Category', y='Values', title=\"Sample Bar Plot\")\n",
        "\n",
        "# Show the plot\n",
        "fig.show()"
      ],
      "metadata": {
        "colab": {
          "base_uri": "https://localhost:8080/",
          "height": 542
        },
        "id": "LDn2B2hxbaHs",
        "outputId": "fd8de9c1-031f-4eed-c4e5-802628d63470"
      },
      "execution_count": 1,
      "outputs": [
        {
          "output_type": "display_data",
          "data": {
            "text/html": [
              "<html>\n",
              "<head><meta charset=\"utf-8\" /></head>\n",
              "<body>\n",
              "    <div>            <script src=\"https://cdnjs.cloudflare.com/ajax/libs/mathjax/2.7.5/MathJax.js?config=TeX-AMS-MML_SVG\"></script><script type=\"text/javascript\">if (window.MathJax && window.MathJax.Hub && window.MathJax.Hub.Config) {window.MathJax.Hub.Config({SVG: {font: \"STIX-Web\"}});}</script>                <script type=\"text/javascript\">window.PlotlyConfig = {MathJaxConfig: 'local'};</script>\n",
              "        <script charset=\"utf-8\" src=\"https://cdn.plot.ly/plotly-2.35.2.min.js\"></script>                <div id=\"78c2fb02-f2fb-4366-b33d-81721c9ec7d5\" class=\"plotly-graph-div\" style=\"height:525px; width:100%;\"></div>            <script type=\"text/javascript\">                                    window.PLOTLYENV=window.PLOTLYENV || {};                                    if (document.getElementById(\"78c2fb02-f2fb-4366-b33d-81721c9ec7d5\")) {                    Plotly.newPlot(                        \"78c2fb02-f2fb-4366-b33d-81721c9ec7d5\",                        [{\"alignmentgroup\":\"True\",\"hovertemplate\":\"Category=%{x}\\u003cbr\\u003eValues=%{y}\\u003cextra\\u003e\\u003c\\u002fextra\\u003e\",\"legendgroup\":\"\",\"marker\":{\"color\":\"#636efa\",\"pattern\":{\"shape\":\"\"}},\"name\":\"\",\"offsetgroup\":\"\",\"orientation\":\"v\",\"showlegend\":false,\"textposition\":\"auto\",\"x\":[\"A\",\"B\",\"C\",\"D\"],\"xaxis\":\"x\",\"y\":[10,20,15,25],\"yaxis\":\"y\",\"type\":\"bar\"}],                        {\"template\":{\"data\":{\"histogram2dcontour\":[{\"type\":\"histogram2dcontour\",\"colorbar\":{\"outlinewidth\":0,\"ticks\":\"\"},\"colorscale\":[[0.0,\"#0d0887\"],[0.1111111111111111,\"#46039f\"],[0.2222222222222222,\"#7201a8\"],[0.3333333333333333,\"#9c179e\"],[0.4444444444444444,\"#bd3786\"],[0.5555555555555556,\"#d8576b\"],[0.6666666666666666,\"#ed7953\"],[0.7777777777777778,\"#fb9f3a\"],[0.8888888888888888,\"#fdca26\"],[1.0,\"#f0f921\"]]}],\"choropleth\":[{\"type\":\"choropleth\",\"colorbar\":{\"outlinewidth\":0,\"ticks\":\"\"}}],\"histogram2d\":[{\"type\":\"histogram2d\",\"colorbar\":{\"outlinewidth\":0,\"ticks\":\"\"},\"colorscale\":[[0.0,\"#0d0887\"],[0.1111111111111111,\"#46039f\"],[0.2222222222222222,\"#7201a8\"],[0.3333333333333333,\"#9c179e\"],[0.4444444444444444,\"#bd3786\"],[0.5555555555555556,\"#d8576b\"],[0.6666666666666666,\"#ed7953\"],[0.7777777777777778,\"#fb9f3a\"],[0.8888888888888888,\"#fdca26\"],[1.0,\"#f0f921\"]]}],\"heatmap\":[{\"type\":\"heatmap\",\"colorbar\":{\"outlinewidth\":0,\"ticks\":\"\"},\"colorscale\":[[0.0,\"#0d0887\"],[0.1111111111111111,\"#46039f\"],[0.2222222222222222,\"#7201a8\"],[0.3333333333333333,\"#9c179e\"],[0.4444444444444444,\"#bd3786\"],[0.5555555555555556,\"#d8576b\"],[0.6666666666666666,\"#ed7953\"],[0.7777777777777778,\"#fb9f3a\"],[0.8888888888888888,\"#fdca26\"],[1.0,\"#f0f921\"]]}],\"heatmapgl\":[{\"type\":\"heatmapgl\",\"colorbar\":{\"outlinewidth\":0,\"ticks\":\"\"},\"colorscale\":[[0.0,\"#0d0887\"],[0.1111111111111111,\"#46039f\"],[0.2222222222222222,\"#7201a8\"],[0.3333333333333333,\"#9c179e\"],[0.4444444444444444,\"#bd3786\"],[0.5555555555555556,\"#d8576b\"],[0.6666666666666666,\"#ed7953\"],[0.7777777777777778,\"#fb9f3a\"],[0.8888888888888888,\"#fdca26\"],[1.0,\"#f0f921\"]]}],\"contourcarpet\":[{\"type\":\"contourcarpet\",\"colorbar\":{\"outlinewidth\":0,\"ticks\":\"\"}}],\"contour\":[{\"type\":\"contour\",\"colorbar\":{\"outlinewidth\":0,\"ticks\":\"\"},\"colorscale\":[[0.0,\"#0d0887\"],[0.1111111111111111,\"#46039f\"],[0.2222222222222222,\"#7201a8\"],[0.3333333333333333,\"#9c179e\"],[0.4444444444444444,\"#bd3786\"],[0.5555555555555556,\"#d8576b\"],[0.6666666666666666,\"#ed7953\"],[0.7777777777777778,\"#fb9f3a\"],[0.8888888888888888,\"#fdca26\"],[1.0,\"#f0f921\"]]}],\"surface\":[{\"type\":\"surface\",\"colorbar\":{\"outlinewidth\":0,\"ticks\":\"\"},\"colorscale\":[[0.0,\"#0d0887\"],[0.1111111111111111,\"#46039f\"],[0.2222222222222222,\"#7201a8\"],[0.3333333333333333,\"#9c179e\"],[0.4444444444444444,\"#bd3786\"],[0.5555555555555556,\"#d8576b\"],[0.6666666666666666,\"#ed7953\"],[0.7777777777777778,\"#fb9f3a\"],[0.8888888888888888,\"#fdca26\"],[1.0,\"#f0f921\"]]}],\"mesh3d\":[{\"type\":\"mesh3d\",\"colorbar\":{\"outlinewidth\":0,\"ticks\":\"\"}}],\"scatter\":[{\"fillpattern\":{\"fillmode\":\"overlay\",\"size\":10,\"solidity\":0.2},\"type\":\"scatter\"}],\"parcoords\":[{\"type\":\"parcoords\",\"line\":{\"colorbar\":{\"outlinewidth\":0,\"ticks\":\"\"}}}],\"scatterpolargl\":[{\"type\":\"scatterpolargl\",\"marker\":{\"colorbar\":{\"outlinewidth\":0,\"ticks\":\"\"}}}],\"bar\":[{\"error_x\":{\"color\":\"#2a3f5f\"},\"error_y\":{\"color\":\"#2a3f5f\"},\"marker\":{\"line\":{\"color\":\"#E5ECF6\",\"width\":0.5},\"pattern\":{\"fillmode\":\"overlay\",\"size\":10,\"solidity\":0.2}},\"type\":\"bar\"}],\"scattergeo\":[{\"type\":\"scattergeo\",\"marker\":{\"colorbar\":{\"outlinewidth\":0,\"ticks\":\"\"}}}],\"scatterpolar\":[{\"type\":\"scatterpolar\",\"marker\":{\"colorbar\":{\"outlinewidth\":0,\"ticks\":\"\"}}}],\"histogram\":[{\"marker\":{\"pattern\":{\"fillmode\":\"overlay\",\"size\":10,\"solidity\":0.2}},\"type\":\"histogram\"}],\"scattergl\":[{\"type\":\"scattergl\",\"marker\":{\"colorbar\":{\"outlinewidth\":0,\"ticks\":\"\"}}}],\"scatter3d\":[{\"type\":\"scatter3d\",\"line\":{\"colorbar\":{\"outlinewidth\":0,\"ticks\":\"\"}},\"marker\":{\"colorbar\":{\"outlinewidth\":0,\"ticks\":\"\"}}}],\"scattermapbox\":[{\"type\":\"scattermapbox\",\"marker\":{\"colorbar\":{\"outlinewidth\":0,\"ticks\":\"\"}}}],\"scatterternary\":[{\"type\":\"scatterternary\",\"marker\":{\"colorbar\":{\"outlinewidth\":0,\"ticks\":\"\"}}}],\"scattercarpet\":[{\"type\":\"scattercarpet\",\"marker\":{\"colorbar\":{\"outlinewidth\":0,\"ticks\":\"\"}}}],\"carpet\":[{\"aaxis\":{\"endlinecolor\":\"#2a3f5f\",\"gridcolor\":\"white\",\"linecolor\":\"white\",\"minorgridcolor\":\"white\",\"startlinecolor\":\"#2a3f5f\"},\"baxis\":{\"endlinecolor\":\"#2a3f5f\",\"gridcolor\":\"white\",\"linecolor\":\"white\",\"minorgridcolor\":\"white\",\"startlinecolor\":\"#2a3f5f\"},\"type\":\"carpet\"}],\"table\":[{\"cells\":{\"fill\":{\"color\":\"#EBF0F8\"},\"line\":{\"color\":\"white\"}},\"header\":{\"fill\":{\"color\":\"#C8D4E3\"},\"line\":{\"color\":\"white\"}},\"type\":\"table\"}],\"barpolar\":[{\"marker\":{\"line\":{\"color\":\"#E5ECF6\",\"width\":0.5},\"pattern\":{\"fillmode\":\"overlay\",\"size\":10,\"solidity\":0.2}},\"type\":\"barpolar\"}],\"pie\":[{\"automargin\":true,\"type\":\"pie\"}]},\"layout\":{\"autotypenumbers\":\"strict\",\"colorway\":[\"#636efa\",\"#EF553B\",\"#00cc96\",\"#ab63fa\",\"#FFA15A\",\"#19d3f3\",\"#FF6692\",\"#B6E880\",\"#FF97FF\",\"#FECB52\"],\"font\":{\"color\":\"#2a3f5f\"},\"hovermode\":\"closest\",\"hoverlabel\":{\"align\":\"left\"},\"paper_bgcolor\":\"white\",\"plot_bgcolor\":\"#E5ECF6\",\"polar\":{\"bgcolor\":\"#E5ECF6\",\"angularaxis\":{\"gridcolor\":\"white\",\"linecolor\":\"white\",\"ticks\":\"\"},\"radialaxis\":{\"gridcolor\":\"white\",\"linecolor\":\"white\",\"ticks\":\"\"}},\"ternary\":{\"bgcolor\":\"#E5ECF6\",\"aaxis\":{\"gridcolor\":\"white\",\"linecolor\":\"white\",\"ticks\":\"\"},\"baxis\":{\"gridcolor\":\"white\",\"linecolor\":\"white\",\"ticks\":\"\"},\"caxis\":{\"gridcolor\":\"white\",\"linecolor\":\"white\",\"ticks\":\"\"}},\"coloraxis\":{\"colorbar\":{\"outlinewidth\":0,\"ticks\":\"\"}},\"colorscale\":{\"sequential\":[[0.0,\"#0d0887\"],[0.1111111111111111,\"#46039f\"],[0.2222222222222222,\"#7201a8\"],[0.3333333333333333,\"#9c179e\"],[0.4444444444444444,\"#bd3786\"],[0.5555555555555556,\"#d8576b\"],[0.6666666666666666,\"#ed7953\"],[0.7777777777777778,\"#fb9f3a\"],[0.8888888888888888,\"#fdca26\"],[1.0,\"#f0f921\"]],\"sequentialminus\":[[0.0,\"#0d0887\"],[0.1111111111111111,\"#46039f\"],[0.2222222222222222,\"#7201a8\"],[0.3333333333333333,\"#9c179e\"],[0.4444444444444444,\"#bd3786\"],[0.5555555555555556,\"#d8576b\"],[0.6666666666666666,\"#ed7953\"],[0.7777777777777778,\"#fb9f3a\"],[0.8888888888888888,\"#fdca26\"],[1.0,\"#f0f921\"]],\"diverging\":[[0,\"#8e0152\"],[0.1,\"#c51b7d\"],[0.2,\"#de77ae\"],[0.3,\"#f1b6da\"],[0.4,\"#fde0ef\"],[0.5,\"#f7f7f7\"],[0.6,\"#e6f5d0\"],[0.7,\"#b8e186\"],[0.8,\"#7fbc41\"],[0.9,\"#4d9221\"],[1,\"#276419\"]]},\"xaxis\":{\"gridcolor\":\"white\",\"linecolor\":\"white\",\"ticks\":\"\",\"title\":{\"standoff\":15},\"zerolinecolor\":\"white\",\"automargin\":true,\"zerolinewidth\":2},\"yaxis\":{\"gridcolor\":\"white\",\"linecolor\":\"white\",\"ticks\":\"\",\"title\":{\"standoff\":15},\"zerolinecolor\":\"white\",\"automargin\":true,\"zerolinewidth\":2},\"scene\":{\"xaxis\":{\"backgroundcolor\":\"#E5ECF6\",\"gridcolor\":\"white\",\"linecolor\":\"white\",\"showbackground\":true,\"ticks\":\"\",\"zerolinecolor\":\"white\",\"gridwidth\":2},\"yaxis\":{\"backgroundcolor\":\"#E5ECF6\",\"gridcolor\":\"white\",\"linecolor\":\"white\",\"showbackground\":true,\"ticks\":\"\",\"zerolinecolor\":\"white\",\"gridwidth\":2},\"zaxis\":{\"backgroundcolor\":\"#E5ECF6\",\"gridcolor\":\"white\",\"linecolor\":\"white\",\"showbackground\":true,\"ticks\":\"\",\"zerolinecolor\":\"white\",\"gridwidth\":2}},\"shapedefaults\":{\"line\":{\"color\":\"#2a3f5f\"}},\"annotationdefaults\":{\"arrowcolor\":\"#2a3f5f\",\"arrowhead\":0,\"arrowwidth\":1},\"geo\":{\"bgcolor\":\"white\",\"landcolor\":\"#E5ECF6\",\"subunitcolor\":\"white\",\"showland\":true,\"showlakes\":true,\"lakecolor\":\"white\"},\"title\":{\"x\":0.05},\"mapbox\":{\"style\":\"light\"}}},\"xaxis\":{\"anchor\":\"y\",\"domain\":[0.0,1.0],\"title\":{\"text\":\"Category\"}},\"yaxis\":{\"anchor\":\"x\",\"domain\":[0.0,1.0],\"title\":{\"text\":\"Values\"}},\"legend\":{\"tracegroupgap\":0},\"title\":{\"text\":\"Sample Bar Plot\"},\"barmode\":\"relative\"},                        {\"responsive\": true}                    ).then(function(){\n",
              "                            \n",
              "var gd = document.getElementById('78c2fb02-f2fb-4366-b33d-81721c9ec7d5');\n",
              "var x = new MutationObserver(function (mutations, observer) {{\n",
              "        var display = window.getComputedStyle(gd).display;\n",
              "        if (!display || display === 'none') {{\n",
              "            console.log([gd, 'removed!']);\n",
              "            Plotly.purge(gd);\n",
              "            observer.disconnect();\n",
              "        }}\n",
              "}});\n",
              "\n",
              "// Listen for the removal of the full notebook cells\n",
              "var notebookContainer = gd.closest('#notebook-container');\n",
              "if (notebookContainer) {{\n",
              "    x.observe(notebookContainer, {childList: true});\n",
              "}}\n",
              "\n",
              "// Listen for the clearing of the current output cell\n",
              "var outputEl = gd.closest('.output');\n",
              "if (outputEl) {{\n",
              "    x.observe(outputEl, {childList: true});\n",
              "}}\n",
              "\n",
              "                        })                };                            </script>        </div>\n",
              "</body>\n",
              "</html>"
            ]
          },
          "metadata": {}
        }
      ]
    },
    {
      "cell_type": "markdown",
      "source": [
        "# Q6. Create a DataFrame and add a new column based on an existing column .\n",
        "Here's a simple way to create a DataFrame using pandas and add a new column based on an existing column:\n",
        "\n",
        "This example creates a DataFrame with two columns (Name and Age) and adds a new column (Age Group) based on a condition applied to the Age column. You can modify the logic within apply() to suit your needs.\n",
        "\n"
      ],
      "metadata": {
        "id": "72lgIsfWbyVc"
      }
    },
    {
      "cell_type": "code",
      "source": [
        "import pandas as pd\n",
        "\n",
        "# Create a sample DataFrame\n",
        "data = {'Name': ['Alice', 'Bob', 'Charlie', 'David'],\n",
        "        'Age': [25, 30, 35, 40]}\n",
        "\n",
        "df = pd.DataFrame(data)\n",
        "\n",
        "# Add a new column based on the existing 'Age' column\n",
        "df['Age Group'] = df['Age'].apply(lambda x: 'Young' if x < 30 else 'Adult')\n",
        "\n",
        "# Display the updated DataFrame\n",
        "print(df)"
      ],
      "metadata": {
        "colab": {
          "base_uri": "https://localhost:8080/"
        },
        "id": "SstCPvjZc-ty",
        "outputId": "6e9227dd-7173-4296-fa34-c7632b02312b"
      },
      "execution_count": 2,
      "outputs": [
        {
          "output_type": "stream",
          "name": "stdout",
          "text": [
            "      Name  Age Age Group\n",
            "0    Alice   25     Young\n",
            "1      Bob   30     Adult\n",
            "2  Charlie   35     Adult\n",
            "3    David   40     Adult\n"
          ]
        }
      ]
    },
    {
      "cell_type": "markdown",
      "source": [
        "# Q7. Write a program to perform element-wise multiplication of two NumPy arrays .\n",
        "Here's a simple Python program to perform element-wise multiplication of two NumPy arrays:\n",
        "\n",
        "This program initializes two NumPy arrays, multiplies them element-wise using the * operator, and then prints the result.\n"
      ],
      "metadata": {
        "id": "KD_KB1hOdJam"
      }
    },
    {
      "cell_type": "code",
      "source": [
        "import numpy as np\n",
        "\n",
        "# Create two NumPy arrays\n",
        "array1 = np.array([1, 2, 3, 4])\n",
        "array2 = np.array([5, 6, 7, 8])\n",
        "\n",
        "# Perform element-wise multiplication\n",
        "result = array1 * array2\n",
        "\n",
        "# Display the result\n",
        "print(\"Element-wise multiplication result:\")\n",
        "print(result)"
      ],
      "metadata": {
        "colab": {
          "base_uri": "https://localhost:8080/"
        },
        "id": "l0nWVe07jURd",
        "outputId": "8dbc4ae4-cda8-4f9f-f005-2be78f24b219"
      },
      "execution_count": 3,
      "outputs": [
        {
          "output_type": "stream",
          "name": "stdout",
          "text": [
            "Element-wise multiplication result:\n",
            "[ 5 12 21 32]\n"
          ]
        }
      ]
    },
    {
      "cell_type": "markdown",
      "source": [
        "This program initializes two NumPy arrays, multiplies them element-wise using the * operator, and then prints the result.\n"
      ],
      "metadata": {
        "id": "aGejTTUgjYBc"
      }
    },
    {
      "cell_type": "markdown",
      "source": [
        "# Q8. Create a line plot with multiple lines using Matplotlib.\n"
      ],
      "metadata": {
        "id": "esdv6r3Sjt1L"
      }
    },
    {
      "cell_type": "code",
      "source": [
        "import matplotlib.pyplot as plt\n",
        "import numpy as np\n",
        "\n",
        "# Sample data\n",
        "x = np.arange(1, 11)\n",
        "y1 = x * 2\n",
        "y2 = x ** 2\n",
        "y3 = np.sqrt(x) * 10\n",
        "\n",
        "# Create the plot\n",
        "plt.plot(x, y1, label='y = 2x', marker='o')\n",
        "plt.plot(x, y2, label='y = x²', linestyle='--', marker='s')\n",
        "plt.plot(x, y3, label='y = √x * 10', linestyle='-.', marker='^')\n",
        "\n",
        "# Add labels, title, and legend\n",
        "plt.xlabel('X-axis')\n",
        "plt.ylabel('Y-axis')\n",
        "plt.title('Multiple Line Plot')\n",
        "plt.legend()\n",
        "\n",
        "# Show the plot\n",
        "plt.show()"
      ],
      "metadata": {
        "colab": {
          "base_uri": "https://localhost:8080/",
          "height": 472
        },
        "id": "b3QDlzFSkrd8",
        "outputId": "d71d1451-0b0f-4729-ec1c-4d22fbabbaa6"
      },
      "execution_count": 4,
      "outputs": [
        {
          "output_type": "display_data",
          "data": {
            "text/plain": [
              "<Figure size 640x480 with 1 Axes>"
            ],
            "image/png": "[encoded data removed]"
          },
          "metadata": {}
        }
      ]
    },
    {
      "cell_type": "markdown",
      "source": [
        "This example plots three different functions (2x, x², and √x * 10) with different line styles and markers for better visualization.\n"
      ],
      "metadata": {
        "id": "b8MAzeP4k5OO"
      }
    },
    {
      "cell_type": "markdown",
      "source": [
        "# Q9. Generate a Pandas DataFrame and filter rows where a column value is greater than a threshold .\n",
        "Here's a simple example of how you can generate a Pandas DataFrame and filter rows based on a threshold value:\n",
        "\n",
        "\n",
        "\n"
      ],
      "metadata": {
        "id": "Y6F07TbRk9aK"
      }
    },
    {
      "cell_type": "code",
      "source": [
        "import pandas as pd\n",
        "\n",
        "# Create a sample DataFrame\n",
        "data = {'Name': ['Alice', 'Bob', 'Charlie', 'David', 'Eve'],\n",
        "        'Score': [85, 92, 78, 95, 88]}\n",
        "\n",
        "df = pd.DataFrame(data)\n",
        "\n",
        "# Define the threshold\n",
        "threshold = 90\n",
        "\n",
        "# Filter rows where 'Score' is greater than the threshold\n",
        "filtered_df = df[df['Score'] > threshold]\n",
        "\n",
        "# Display the filtered DataFrame\n",
        "print(filtered_df)"
      ],
      "metadata": {
        "colab": {
          "base_uri": "https://localhost:8080/"
        },
        "id": "LApdaYHzlp5T",
        "outputId": "cc489654-81c0-44ef-c216-e25f201e7814"
      },
      "execution_count": 5,
      "outputs": [
        {
          "output_type": "stream",
          "name": "stdout",
          "text": [
            "    Name  Score\n",
            "1    Bob     92\n",
            "3  David     95\n"
          ]
        }
      ]
    },
    {
      "cell_type": "markdown",
      "source": [
        "This example creates a DataFrame with two columns (Name and Score) and filters rows where the Score column has values greater than 90. You can adjust the threshold or even filter based on multiple conditions.\n",
        "\n"
      ],
      "metadata": {
        "id": "oVr5bQiKl9HT"
      }
    },
    {
      "cell_type": "markdown",
      "source": [
        "# Q10. Create a histogram using Seaborn to visualize a distribution .\n",
        "Here's a simple example of how you can create a histogram using Seaborn to visualize a distribution:\n",
        "\n",
        "```python\n",
        "import seaborn as sns\n",
        "import matplotlib.pyplot as plt\n",
        "import numpy as np\n",
        "\n",
        "# Generate random data\n",
        "data = np.random.normal(loc=50, scale=15, size=200)  # Mean=50, Std=15, Size=200\n",
        "\n",
        "# Create histogram\n",
        "sns.histplot(data, bins=20, kde=True)\n",
        "\n",
        "# Add labels and title\n",
        "plt.xlabel('Value')\n",
        "plt.ylabel('Frequency')\n",
        "plt.title('Histogram of Data Distribution')\n",
        "\n",
        "# Show the plot\n",
        "plt.show()\n",
        "```\n",
        "\n",
        "This code generates random data following a normal distribution, then uses `sns.histplot()` to plot a histogram with 20 bins. The `kde=True` argument overlays a Kernel Density Estimate (KDE) curve for better visualization.\n",
        "\n",
        "\n"
      ],
      "metadata": {
        "id": "lS5_isAemGyc"
      }
    },
    {
      "cell_type": "markdown",
      "source": [
        "# Q11. Perform matrix multiplication using NumPy .\n",
        "Here's a simple way to perform matrix multiplication using NumPy:\n",
        "\n",
        "```python\n",
        "import numpy as np\n",
        "\n",
        "# Define two matrices\n",
        "matrix1 = np.array([[1, 2], [3, 4]])\n",
        "matrix2 = np.array([[5, 6], [7, 8]])\n",
        "\n",
        "# Perform matrix multiplication\n",
        "result = np.matmul(matrix1, matrix2)\n",
        "\n",
        "# Display the result\n",
        "print(\"Matrix Multiplication Result:\")\n",
        "print(result)\n",
        "```\n",
        "\n",
        "Alternatively, you can use the `@` operator or `np.dot()` for multiplication:\n",
        "\n",
        "```python\n",
        "result_alt = matrix1 @ matrix2  # Equivalent to np.matmul(matrix1, matrix2)\n",
        "print(result_alt)\n",
        "```\n",
        "\n",
        "This multiplies two 2×2 matrices using NumPy's efficient computation methods.\n",
        "\n",
        "\n"
      ],
      "metadata": {
        "id": "Aby95T7pmqVG"
      }
    },
    {
      "cell_type": "markdown",
      "source": [
        "# Q12. Use Pandas to load a CSV file and display its first 5 rows .\n",
        "\n",
        "Here's how you can use Pandas to load a CSV file and display its first five rows:\n",
        "\n",
        "```python\n",
        "import pandas as pd\n",
        "\n",
        "# Load CSV file into a DataFrame\n",
        "df = pd.read_csv(\"your_file.csv\")  # Replace \"your_file.csv\" with the actual file path\n",
        "\n",
        "# Display the first 5 rows\n",
        "print(df.head())\n",
        "```\n",
        "\n",
        "This code reads a CSV file into a Pandas DataFrame and then uses `.head()` to show the first five rows. If your file has headers, Pandas will automatically detect them.\n"
      ],
      "metadata": {
        "id": "q1d4ExU0nj5n"
      }
    },
    {
      "cell_type": "markdown",
      "source": [
        "# Q13. Create a 3D scatter plot using Plotly.\n",
        "\n"
      ],
      "metadata": {
        "id": "1uve2ORzoyMa"
      }
    },
    {
      "cell_type": "code",
      "source": [
        "import plotly.graph_objects as go\n",
        "import numpy as np\n",
        "\n",
        "# Generate sample data\n",
        "np.random.seed(42)\n",
        "x = np.random.rand(50) * 10\n",
        "y = np.random.rand(50) * 10\n",
        "z = np.random.rand(50) * 10\n",
        "\n",
        "# Create 3D scatter plot\n",
        "fig = go.Figure(data=[go.Scatter3d(x=x, y=y, z=z, mode='markers',\n",
        "                                   marker=dict(size=5, color=z, colorscale='Viridis', opacity=0.8))])\n",
        "\n",
        "# Add labels and title\n",
        "fig.update_layout(title=\"3D Scatter Plot\",\n",
        "                  scene=dict(xaxis_title=\"X Axis\",\n",
        "                             yaxis_title=\"Y Axis\",\n",
        "                             zaxis_title=\"Z Axis\"))\n",
        "\n",
        "# Show the plot\n",
        "fig.show()"
      ],
      "metadata": {
        "colab": {
          "base_uri": "https://localhost:8080/",
          "height": 542
        },
        "id": "5ZagPEMppFi9",
        "outputId": "eb81d7e8-ee9f-4d86-da8f-a2f8404a6731"
      },
      "execution_count": 6,
      "outputs": [
        {
          "output_type": "display_data",
          "data": {
            "text/html": [
              "<html>\n",
              "<head><meta charset=\"utf-8\" /></head>\n",
              "<body>\n",
              "    <div>            <script src=\"https://cdnjs.cloudflare.com/ajax/libs/mathjax/2.7.5/MathJax.js?config=TeX-AMS-MML_SVG\"></script><script type=\"text/javascript\">if (window.MathJax && window.MathJax.Hub && window.MathJax.Hub.Config) {window.MathJax.Hub.Config({SVG: {font: \"STIX-Web\"}});}</script>                <script type=\"text/javascript\">window.PlotlyConfig = {MathJaxConfig: 'local'};</script>\n",
              "        <script charset=\"utf-8\" src=\"https://cdn.plot.ly/plotly-2.35.2.min.js\"></script>                <div id=\"8592bcec-0b5e-4d67-b511-b90503a34241\" class=\"plotly-graph-div\" style=\"height:525px; width:100%;\"></div>            <script type=\"text/javascript\">                                    window.PLOTLYENV=window.PLOTLYENV || {};                                    if (document.getElementById(\"8592bcec-0b5e-4d67-b511-b90503a34241\")) {                    Plotly.newPlot(                        \"8592bcec-0b5e-4d67-b511-b90503a34241\",                        [{\"marker\":{\"color\":[0.3142918568673425,6.364104112637804,3.143559810763267,5.085706911647028,9.07566473926093,2.4929222914887497,4.103829230356297,7.555511385430487,2.2879816549162246,0.7697990982879299,2.8975145291376805,1.6122128725400442,9.29697652342573,8.08120379564417,6.334037565104235,8.714605901877178,8.036720768991145,1.8657005888603584,8.925589984899778,5.393422419156507,8.074401551640625,8.960912999234932,3.1800347497186388,1.1005192452767676,2.279351625419417,4.271077886262563,8.18014765922493,8.607305832563434,0.06952130531190703,5.107473025775658,4.17411003148779,2.2210781047073027,1.198653673336828,3.3761517140362796,9.429097039125192,3.2320293202075523,5.187906217433661,7.030189588951778,3.63629602379294,9.717820827209607,9.624472949421111,2.5178229582536416,4.972485058923855,3.0087830981676964,2.848404943774676,0.36886947354532795,6.095643339798968,5.026790232288615,0.5147875124998935,2.7864646423661146],\"colorscale\":[[0.0,\"#440154\"],[0.1111111111111111,\"#482878\"],[0.2222222222222222,\"#3e4989\"],[0.3333333333333333,\"#31688e\"],[0.4444444444444444,\"#26828e\"],[0.5555555555555556,\"#1f9e89\"],[0.6666666666666666,\"#35b779\"],[0.7777777777777778,\"#6ece58\"],[0.8888888888888888,\"#b5de2b\"],[1.0,\"#fde725\"]],\"opacity\":0.8,\"size\":5},\"mode\":\"markers\",\"x\":[3.745401188473625,9.50714306409916,7.319939418114051,5.986584841970366,1.5601864044243652,1.5599452033620265,0.5808361216819946,8.661761457749352,6.011150117432088,7.080725777960454,0.20584494295802447,9.699098521619943,8.324426408004218,2.1233911067827616,1.8182496720710062,1.8340450985343382,3.0424224295953772,5.247564316322379,4.319450186421157,2.9122914019804194,6.118528947223795,1.3949386065204183,2.9214464853521815,3.663618432936917,4.56069984217036,7.851759613930136,1.9967378215835974,5.142344384136116,5.924145688620425,0.46450412719997725,6.075448519014383,1.7052412368729153,0.6505159298527952,9.488855372533333,9.656320330745594,8.08397348116461,3.0461376917337066,0.9767211400638387,6.842330265121569,4.4015249373960135,1.2203823484477883,4.951769101112702,0.34388521115218396,9.093204020787821,2.587799816000169,6.62522284353982,3.1171107608941098,5.200680211778108,5.4671027934327965,1.8485445552552704],\"y\":[9.695846277645586,7.7513282336111455,9.394989415641891,8.948273504276488,5.978999788110851,9.218742350231167,0.884925020519195,1.959828624191452,0.45227288910538066,3.2533033076326436,3.8867728968948203,2.713490317738959,8.287375091519294,3.567533266935893,2.8093450968738076,5.426960831582485,1.4092422497476265,8.021969807540398,0.7455064367977082,9.868869366005173,7.722447692966574,1.987156815341724,0.05522117123602399,8.154614284548341,7.068573438476172,7.2900716804098735,7.712703466859457,0.7404465173409036,3.5846572854427263,1.1586905952512971,8.631034258755935,6.232981268275579,3.308980248526492,0.6355835028602363,3.109823217156622,3.2518332202674705,7.29606178338064,6.3755747135521315,8.872127425763265,4.722149251619493,1.195942459383017,7.13244787222995,7.607850486168974,5.612771975694963,7.70967179954561,4.937955963643907,5.227328293819941,4.275410183585496,0.2541912674409519,1.0789142699330445],\"z\":[0.3142918568673425,6.364104112637804,3.143559810763267,5.085706911647028,9.07566473926093,2.4929222914887497,4.103829230356297,7.555511385430487,2.2879816549162246,0.7697990982879299,2.8975145291376805,1.6122128725400442,9.29697652342573,8.08120379564417,6.334037565104235,8.714605901877178,8.036720768991145,1.8657005888603584,8.925589984899778,5.393422419156507,8.074401551640625,8.960912999234932,3.1800347497186388,1.1005192452767676,2.279351625419417,4.271077886262563,8.18014765922493,8.607305832563434,0.06952130531190703,5.107473025775658,4.17411003148779,2.2210781047073027,1.198653673336828,3.3761517140362796,9.429097039125192,3.2320293202075523,5.187906217433661,7.030189588951778,3.63629602379294,9.717820827209607,9.624472949421111,2.5178229582536416,4.972485058923855,3.0087830981676964,2.848404943774676,0.36886947354532795,6.095643339798968,5.026790232288615,0.5147875124998935,2.7864646423661146],\"type\":\"scatter3d\"}],                        {\"template\":{\"data\":{\"histogram2dcontour\":[{\"type\":\"histogram2dcontour\",\"colorbar\":{\"outlinewidth\":0,\"ticks\":\"\"},\"colorscale\":[[0.0,\"#0d0887\"],[0.1111111111111111,\"#46039f\"],[0.2222222222222222,\"#7201a8\"],[0.3333333333333333,\"#9c179e\"],[0.4444444444444444,\"#bd3786\"],[0.5555555555555556,\"#d8576b\"],[0.6666666666666666,\"#ed7953\"],[0.7777777777777778,\"#fb9f3a\"],[0.8888888888888888,\"#fdca26\"],[1.0,\"#f0f921\"]]}],\"choropleth\":[{\"type\":\"choropleth\",\"colorbar\":{\"outlinewidth\":0,\"ticks\":\"\"}}],\"histogram2d\":[{\"type\":\"histogram2d\",\"colorbar\":{\"outlinewidth\":0,\"ticks\":\"\"},\"colorscale\":[[0.0,\"#0d0887\"],[0.1111111111111111,\"#46039f\"],[0.2222222222222222,\"#7201a8\"],[0.3333333333333333,\"#9c179e\"],[0.4444444444444444,\"#bd3786\"],[0.5555555555555556,\"#d8576b\"],[0.6666666666666666,\"#ed7953\"],[0.7777777777777778,\"#fb9f3a\"],[0.8888888888888888,\"#fdca26\"],[1.0,\"#f0f921\"]]}],\"heatmap\":[{\"type\":\"heatmap\",\"colorbar\":{\"outlinewidth\":0,\"ticks\":\"\"},\"colorscale\":[[0.0,\"#0d0887\"],[0.1111111111111111,\"#46039f\"],[0.2222222222222222,\"#7201a8\"],[0.3333333333333333,\"#9c179e\"],[0.4444444444444444,\"#bd3786\"],[0.5555555555555556,\"#d8576b\"],[0.6666666666666666,\"#ed7953\"],[0.7777777777777778,\"#fb9f3a\"],[0.8888888888888888,\"#fdca26\"],[1.0,\"#f0f921\"]]}],\"heatmapgl\":[{\"type\":\"heatmapgl\",\"colorbar\":{\"outlinewidth\":0,\"ticks\":\"\"},\"colorscale\":[[0.0,\"#0d0887\"],[0.1111111111111111,\"#46039f\"],[0.2222222222222222,\"#7201a8\"],[0.3333333333333333,\"#9c179e\"],[0.4444444444444444,\"#bd3786\"],[0.5555555555555556,\"#d8576b\"],[0.6666666666666666,\"#ed7953\"],[0.7777777777777778,\"#fb9f3a\"],[0.8888888888888888,\"#fdca26\"],[1.0,\"#f0f921\"]]}],\"contourcarpet\":[{\"type\":\"contourcarpet\",\"colorbar\":{\"outlinewidth\":0,\"ticks\":\"\"}}],\"contour\":[{\"type\":\"contour\",\"colorbar\":{\"outlinewidth\":0,\"ticks\":\"\"},\"colorscale\":[[0.0,\"#0d0887\"],[0.1111111111111111,\"#46039f\"],[0.2222222222222222,\"#7201a8\"],[0.3333333333333333,\"#9c179e\"],[0.4444444444444444,\"#bd3786\"],[0.5555555555555556,\"#d8576b\"],[0.6666666666666666,\"#ed7953\"],[0.7777777777777778,\"#fb9f3a\"],[0.8888888888888888,\"#fdca26\"],[1.0,\"#f0f921\"]]}],\"surface\":[{\"type\":\"surface\",\"colorbar\":{\"outlinewidth\":0,\"ticks\":\"\"},\"colorscale\":[[0.0,\"#0d0887\"],[0.1111111111111111,\"#46039f\"],[0.2222222222222222,\"#7201a8\"],[0.3333333333333333,\"#9c179e\"],[0.4444444444444444,\"#bd3786\"],[0.5555555555555556,\"#d8576b\"],[0.6666666666666666,\"#ed7953\"],[0.7777777777777778,\"#fb9f3a\"],[0.8888888888888888,\"#fdca26\"],[1.0,\"#f0f921\"]]}],\"mesh3d\":[{\"type\":\"mesh3d\",\"colorbar\":{\"outlinewidth\":0,\"ticks\":\"\"}}],\"scatter\":[{\"fillpattern\":{\"fillmode\":\"overlay\",\"size\":10,\"solidity\":0.2},\"type\":\"scatter\"}],\"parcoords\":[{\"type\":\"parcoords\",\"line\":{\"colorbar\":{\"outlinewidth\":0,\"ticks\":\"\"}}}],\"scatterpolargl\":[{\"type\":\"scatterpolargl\",\"marker\":{\"colorbar\":{\"outlinewidth\":0,\"ticks\":\"\"}}}],\"bar\":[{\"error_x\":{\"color\":\"#2a3f5f\"},\"error_y\":{\"color\":\"#2a3f5f\"},\"marker\":{\"line\":{\"color\":\"#E5ECF6\",\"width\":0.5},\"pattern\":{\"fillmode\":\"overlay\",\"size\":10,\"solidity\":0.2}},\"type\":\"bar\"}],\"scattergeo\":[{\"type\":\"scattergeo\",\"marker\":{\"colorbar\":{\"outlinewidth\":0,\"ticks\":\"\"}}}],\"scatterpolar\":[{\"type\":\"scatterpolar\",\"marker\":{\"colorbar\":{\"outlinewidth\":0,\"ticks\":\"\"}}}],\"histogram\":[{\"marker\":{\"pattern\":{\"fillmode\":\"overlay\",\"size\":10,\"solidity\":0.2}},\"type\":\"histogram\"}],\"scattergl\":[{\"type\":\"scattergl\",\"marker\":{\"colorbar\":{\"outlinewidth\":0,\"ticks\":\"\"}}}],\"scatter3d\":[{\"type\":\"scatter3d\",\"line\":{\"colorbar\":{\"outlinewidth\":0,\"ticks\":\"\"}},\"marker\":{\"colorbar\":{\"outlinewidth\":0,\"ticks\":\"\"}}}],\"scattermapbox\":[{\"type\":\"scattermapbox\",\"marker\":{\"colorbar\":{\"outlinewidth\":0,\"ticks\":\"\"}}}],\"scatterternary\":[{\"type\":\"scatterternary\",\"marker\":{\"colorbar\":{\"outlinewidth\":0,\"ticks\":\"\"}}}],\"scattercarpet\":[{\"type\":\"scattercarpet\",\"marker\":{\"colorbar\":{\"outlinewidth\":0,\"ticks\":\"\"}}}],\"carpet\":[{\"aaxis\":{\"endlinecolor\":\"#2a3f5f\",\"gridcolor\":\"white\",\"linecolor\":\"white\",\"minorgridcolor\":\"white\",\"startlinecolor\":\"#2a3f5f\"},\"baxis\":{\"endlinecolor\":\"#2a3f5f\",\"gridcolor\":\"white\",\"linecolor\":\"white\",\"minorgridcolor\":\"white\",\"startlinecolor\":\"#2a3f5f\"},\"type\":\"carpet\"}],\"table\":[{\"cells\":{\"fill\":{\"color\":\"#EBF0F8\"},\"line\":{\"color\":\"white\"}},\"header\":{\"fill\":{\"color\":\"#C8D4E3\"},\"line\":{\"color\":\"white\"}},\"type\":\"table\"}],\"barpolar\":[{\"marker\":{\"line\":{\"color\":\"#E5ECF6\",\"width\":0.5},\"pattern\":{\"fillmode\":\"overlay\",\"size\":10,\"solidity\":0.2}},\"type\":\"barpolar\"}],\"pie\":[{\"automargin\":true,\"type\":\"pie\"}]},\"layout\":{\"autotypenumbers\":\"strict\",\"colorway\":[\"#636efa\",\"#EF553B\",\"#00cc96\",\"#ab63fa\",\"#FFA15A\",\"#19d3f3\",\"#FF6692\",\"#B6E880\",\"#FF97FF\",\"#FECB52\"],\"font\":{\"color\":\"#2a3f5f\"},\"hovermode\":\"closest\",\"hoverlabel\":{\"align\":\"left\"},\"paper_bgcolor\":\"white\",\"plot_bgcolor\":\"#E5ECF6\",\"polar\":{\"bgcolor\":\"#E5ECF6\",\"angularaxis\":{\"gridcolor\":\"white\",\"linecolor\":\"white\",\"ticks\":\"\"},\"radialaxis\":{\"gridcolor\":\"white\",\"linecolor\":\"white\",\"ticks\":\"\"}},\"ternary\":{\"bgcolor\":\"#E5ECF6\",\"aaxis\":{\"gridcolor\":\"white\",\"linecolor\":\"white\",\"ticks\":\"\"},\"baxis\":{\"gridcolor\":\"white\",\"linecolor\":\"white\",\"ticks\":\"\"},\"caxis\":{\"gridcolor\":\"white\",\"linecolor\":\"white\",\"ticks\":\"\"}},\"coloraxis\":{\"colorbar\":{\"outlinewidth\":0,\"ticks\":\"\"}},\"colorscale\":{\"sequential\":[[0.0,\"#0d0887\"],[0.1111111111111111,\"#46039f\"],[0.2222222222222222,\"#7201a8\"],[0.3333333333333333,\"#9c179e\"],[0.4444444444444444,\"#bd3786\"],[0.5555555555555556,\"#d8576b\"],[0.6666666666666666,\"#ed7953\"],[0.7777777777777778,\"#fb9f3a\"],[0.8888888888888888,\"#fdca26\"],[1.0,\"#f0f921\"]],\"sequentialminus\":[[0.0,\"#0d0887\"],[0.1111111111111111,\"#46039f\"],[0.2222222222222222,\"#7201a8\"],[0.3333333333333333,\"#9c179e\"],[0.4444444444444444,\"#bd3786\"],[0.5555555555555556,\"#d8576b\"],[0.6666666666666666,\"#ed7953\"],[0.7777777777777778,\"#fb9f3a\"],[0.8888888888888888,\"#fdca26\"],[1.0,\"#f0f921\"]],\"diverging\":[[0,\"#8e0152\"],[0.1,\"#c51b7d\"],[0.2,\"#de77ae\"],[0.3,\"#f1b6da\"],[0.4,\"#fde0ef\"],[0.5,\"#f7f7f7\"],[0.6,\"#e6f5d0\"],[0.7,\"#b8e186\"],[0.8,\"#7fbc41\"],[0.9,\"#4d9221\"],[1,\"#276419\"]]},\"xaxis\":{\"gridcolor\":\"white\",\"linecolor\":\"white\",\"ticks\":\"\",\"title\":{\"standoff\":15},\"zerolinecolor\":\"white\",\"automargin\":true,\"zerolinewidth\":2},\"yaxis\":{\"gridcolor\":\"white\",\"linecolor\":\"white\",\"ticks\":\"\",\"title\":{\"standoff\":15},\"zerolinecolor\":\"white\",\"automargin\":true,\"zerolinewidth\":2},\"scene\":{\"xaxis\":{\"backgroundcolor\":\"#E5ECF6\",\"gridcolor\":\"white\",\"linecolor\":\"white\",\"showbackground\":true,\"ticks\":\"\",\"zerolinecolor\":\"white\",\"gridwidth\":2},\"yaxis\":{\"backgroundcolor\":\"#E5ECF6\",\"gridcolor\":\"white\",\"linecolor\":\"white\",\"showbackground\":true,\"ticks\":\"\",\"zerolinecolor\":\"white\",\"gridwidth\":2},\"zaxis\":{\"backgroundcolor\":\"#E5ECF6\",\"gridcolor\":\"white\",\"linecolor\":\"white\",\"showbackground\":true,\"ticks\":\"\",\"zerolinecolor\":\"white\",\"gridwidth\":2}},\"shapedefaults\":{\"line\":{\"color\":\"#2a3f5f\"}},\"annotationdefaults\":{\"arrowcolor\":\"#2a3f5f\",\"arrowhead\":0,\"arrowwidth\":1},\"geo\":{\"bgcolor\":\"white\",\"landcolor\":\"#E5ECF6\",\"subunitcolor\":\"white\",\"showland\":true,\"showlakes\":true,\"lakecolor\":\"white\"},\"title\":{\"x\":0.05},\"mapbox\":{\"style\":\"light\"}}},\"title\":{\"text\":\"3D Scatter Plot\"},\"scene\":{\"xaxis\":{\"title\":{\"text\":\"X Axis\"}},\"yaxis\":{\"title\":{\"text\":\"Y Axis\"}},\"zaxis\":{\"title\":{\"text\":\"Z Axis\"}}}},                        {\"responsive\": true}                    ).then(function(){\n",
              "                            \n",
              "var gd = document.getElementById('8592bcec-0b5e-4d67-b511-b90503a34241');\n",
              "var x = new MutationObserver(function (mutations, observer) {{\n",
              "        var display = window.getComputedStyle(gd).display;\n",
              "        if (!display || display === 'none') {{\n",
              "            console.log([gd, 'removed!']);\n",
              "            Plotly.purge(gd);\n",
              "            observer.disconnect();\n",
              "        }}\n",
              "}});\n",
              "\n",
              "// Listen for the removal of the full notebook cells\n",
              "var notebookContainer = gd.closest('#notebook-container');\n",
              "if (notebookContainer) {{\n",
              "    x.observe(notebookContainer, {childList: true});\n",
              "}}\n",
              "\n",
              "// Listen for the clearing of the current output cell\n",
              "var outputEl = gd.closest('.output');\n",
              "if (outputEl) {{\n",
              "    x.observe(outputEl, {childList: true});\n",
              "}}\n",
              "\n",
              "                        })                };                            </script>        </div>\n",
              "</body>\n",
              "</html>"
            ]
          },
          "metadata": {}
        }
      ]
    },
    {
      "cell_type": "markdown",
      "source": [
        "This code generates random 3D coordinates and plots them using Scatter3d. The color of each point is mapped to the z values using the 'Viridis' colorscale .\n"
      ],
      "metadata": {
        "id": "QYuYwjs7pJvT"
      }
    }
  ]
}